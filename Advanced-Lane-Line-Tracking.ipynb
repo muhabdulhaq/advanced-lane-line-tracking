{
 "cells": [
  {
   "cell_type": "code",
   "execution_count": 1,
   "metadata": {},
   "outputs": [],
   "source": [
    "%matplotlib inline\n",
    "%reload_ext autoreload\n",
    "%autoreload 2"
   ]
  },
  {
   "cell_type": "markdown",
   "metadata": {},
   "source": [
    "Use `cv2.COLOR_RGB2GRAY` if you've read in an image using `mpimg.imread()`. Use `cv2.COLOR_BGR2GRAY` if you've read in an image using `cv2.imread()`."
   ]
  },
  {
   "cell_type": "markdown",
   "metadata": {},
   "source": [
    "### Pipeline Steps:\n",
    "\n",
    "1. Calibrate the incoming image to correct for camera distortion\n",
    "1. Distort to bird's eye view\n",
    "    1. Find the lane lines\n",
    "    1. Find the closest and farthest points on each lane line\n",
    "    1. Transform those points to be rectangular(?)\n",
    "1. Use Sobel operator to detect roughly vertical lines?"
   ]
  },
  {
   "cell_type": "code",
   "execution_count": 2,
   "metadata": {},
   "outputs": [],
   "source": [
    "import numpy as np\n",
    "import cv2\n",
    "import matplotlib.pyplot as plt\n",
    "import matplotlib.image as mpimg\n",
    "import pdb\n",
    "from pathlib import Path\n",
    "from moviepy.editor import VideoFileClip"
   ]
  },
  {
   "cell_type": "markdown",
   "metadata": {},
   "source": [
    "## Camera Calibration Step"
   ]
  },
  {
   "cell_type": "code",
   "execution_count": 3,
   "metadata": {},
   "outputs": [],
   "source": [
    "PATH = Path('./camera_cal/')\n",
    "n_cols = 9\n",
    "n_rows = 6\n",
    "objpoints = [] # 3D points in real world space\n",
    "imgpoints = [] # 2D points in image plane\n",
    "\n",
    "objp = np.zeros((n_cols*n_rows,3), np.float32)\n",
    "objp[:,:2] = np.mgrid[0:n_cols,0:n_rows].T.reshape(-1,2)"
   ]
  },
  {
   "cell_type": "code",
   "execution_count": 4,
   "metadata": {},
   "outputs": [
    {
     "name": "stdout",
     "output_type": "stream",
     "text": [
      "Unable to calibrate camera_cal\\calibration1.jpg\n",
      "Unable to calibrate camera_cal\\calibration4.jpg\n",
      "Unable to calibrate camera_cal\\calibration5.jpg\n"
     ]
    }
   ],
   "source": [
    "for filename in list(PATH.iterdir()):\n",
    "    img = plt.imread(filename)\n",
    "    if img is None:\n",
    "        print('ERROR')\n",
    "        pdb.set_trace()\n",
    "    \n",
    "    gray = cv2.cvtColor(img, cv2.COLOR_BGR2GRAY)\n",
    "    ret, corners = cv2.findChessboardCorners(gray, (n_cols, n_rows), None)\n",
    "    if ret == True:\n",
    "        imgpoints.append(corners)\n",
    "        objpoints.append(objp)\n",
    "        img = cv2.drawChessboardCorners(img, (n_cols, n_rows), corners, ret)\n",
    "    else: \n",
    "        print('Unable to calibrate', filename)\n",
    "\n",
    "ret, mtx, dist, rvecs, tvecs = cv2.calibrateCamera(objpoints, imgpoints, gray.shape[::-1], None, None)"
   ]
  },
  {
   "cell_type": "markdown",
   "metadata": {},
   "source": [
    "Let's grab a warped looking file and run it through the calibration step..."
   ]
  },
  {
   "cell_type": "code",
   "execution_count": 5,
   "metadata": {},
   "outputs": [],
   "source": [
    "filename = list(PATH.iterdir())[11]\n",
    "img = plt.imread(filename)\n",
    "dst = cv2.undistort(img, mtx, dist, None, mtx)\n",
    "\n",
    "# f, (ax1, ax2) = plt.subplots(1, 2, figsize=(24, 9))\n",
    "# f.tight_layout()\n",
    "# ax1.imshow(img)\n",
    "# ax1.set_title('Original Image', fontsize=50)\n",
    "# ax2.imshow(dst)\n",
    "# ax2.set_title('Undistorted Image', fontsize=50)\n",
    "# plt.subplots_adjust(left=0., right=1, top=0.9, bottom=0.)"
   ]
  },
  {
   "cell_type": "code",
   "execution_count": 6,
   "metadata": {},
   "outputs": [],
   "source": [
    "def calibrate_image(img):\n",
    "    return cv2.undistort(img, mtx, dist, None, mtx)"
   ]
  },
  {
   "cell_type": "markdown",
   "metadata": {},
   "source": [
    "## Let's take a look at some of the test images\n",
    "\n",
    "This code is very handy for displaying a few images easily"
   ]
  },
  {
   "cell_type": "code",
   "execution_count": 8,
   "metadata": {},
   "outputs": [],
   "source": [
    "PATH = Path('./test_images/')\n",
    "n_images = len(list(PATH.iterdir()))\n",
    "row_len = 4\n",
    "\n",
    "# fig,axes=plt.subplots(n_images//row_len, row_len, figsize=(15,5))\n",
    "# for i, ax in enumerate(axes.flat):\n",
    "#     filename = list(PATH.iterdir())[i]\n",
    "#     img = plt.imread(filename)\n",
    "#     img = calibrate_image(img)\n",
    "#     if img is None:\n",
    "#         print('ERROR')\n",
    "#         pdb.set_trace()\n",
    "#     ax.imshow(img)\n",
    "#     ax.set_title(str(filename).split('\\\\')[-1])\n",
    "# plt.tight_layout()"
   ]
  },
  {
   "cell_type": "code",
   "execution_count": 9,
   "metadata": {},
   "outputs": [],
   "source": [
    "# PATH = Path('./test_images/')\n",
    "# image = mpimg.imread(str(PATH/'test7.png'))\n",
    "# image = calibrate_image(image)\n",
    "# plt.imshow(image)"
   ]
  },
  {
   "cell_type": "markdown",
   "metadata": {},
   "source": [
    "# Sobel Gradient"
   ]
  },
  {
   "cell_type": "code",
   "execution_count": 10,
   "metadata": {},
   "outputs": [],
   "source": [
    "def abs_sobel_threshold(img, orient='x', sobel_kernel=3, thresh=(0, 255)):\n",
    "    gray = cv2.cvtColor(img, cv2.COLOR_RGB2GRAY) # Using mpimg.imread\n",
    "    # Take the derivative in x or y given orient = 'x' or 'y'\n",
    "    if orient == 'x':\n",
    "       sobel = cv2.Sobel(gray, cv2.CV_64F, 1, 0)\n",
    "    else:\n",
    "       sobel = cv2.Sobel(gray, cv2.CV_64F, 0, 1)\n",
    "    # 3) Take the absolute value of the gradient\n",
    "    abs_sobel = np.absolute(sobel)\n",
    "    # 4) Scale to 8-bit (0 - 255) then convert to type = np.uint8\n",
    "    max_sobel = np.max(abs_sobel)\n",
    "    scaled_sobel = abs_sobel * 255 / max_sobel\n",
    "    scaled_sobel = scaled_sobel.astype(np.uint8)\n",
    "    # 5) Create a mask of 1's where the scaled gradient magnitude\n",
    "            # is > thresh_min and < thresh_max\n",
    "    s_binary = np.zeros_like(scaled_sobel)\n",
    "    s_binary[(scaled_sobel >= thresh[0]) & (scaled_sobel <= thresh[1])] = 1\n",
    "    # 6) Return this mask as your binary_output image\n",
    "#     print(np.max(scaled_sobel))\n",
    "    return s_binary\n",
    "\n",
    "def mag_threshold(img, sobel_kernel=3, mag_thresh=(0, 255)):\n",
    "    gray = cv2.cvtColor(img, cv2.COLOR_RGB2GRAY) # Using mpimg.imread\n",
    "    # Take the gradient in x and y separately\n",
    "    sobel_x = cv2.Sobel(gray, cv2.CV_64F, 1, 0, ksize=sobel_kernel) # x gradient\n",
    "    sobel_y = cv2.Sobel(gray, cv2.CV_64F, 0, 1, ksize=sobel_kernel) # y gradient\n",
    "\n",
    "    # Calculate the magnitude \n",
    "    sum_sq = np.sqrt(sobel_x**2 + sobel_y**2)\n",
    "    max_sobel = np.max(sum_sq)\n",
    "    \n",
    "    # Scale to 8-bit (0 - 255) and convert to type = np.uint8\n",
    "    scaled_sobel = sum_sq * 255 / max_sobel\n",
    "    scaled_sobel = scaled_sobel.astype(np.uint8)\n",
    "    \n",
    "    # Create a binary mask where mag thresholds are met\n",
    "    post_threshold = np.zeros_like(scaled_sobel)\n",
    "    post_threshold[(scaled_sobel >= mag_thresh[0]) & (scaled_sobel <= mag_thresh[1])] = 1\n",
    "    return post_threshold\n",
    "\n",
    "def dir_threshold(img, sobel_kernel=3, thresh=(0, np.pi/2)):\n",
    "    gray = cv2.cvtColor(img, cv2.COLOR_RGB2GRAY) # Using mpimg.imread\n",
    "    # Take the gradient in x and y separately\n",
    "    sobel_x = cv2.Sobel(gray, cv2.CV_64F, 1, 0, ksize=sobel_kernel) # x gradient\n",
    "    sobel_y = cv2.Sobel(gray, cv2.CV_64F, 0, 1, ksize=sobel_kernel) # y gradient\n",
    "    # Take the absolute value of the x and y gradients\n",
    "    abs_sobel_x = np.absolute(sobel_x)\n",
    "    abs_sobel_y = np.absolute(sobel_y)\n",
    "    # Use arctan2 to calculate the direction of the gradient \n",
    "    atan = np.arctan2(abs_sobel_y, abs_sobel_x) # Element-wise arc tangent of y/x\n",
    "    # Create a binary mask where direction thresholds are met\n",
    "    post_threshold = np.zeros_like(atan)\n",
    "    post_threshold[(atan >= thresh[0]) & (atan <= thresh[1])] = 1\n",
    "    return post_threshold"
   ]
  },
  {
   "cell_type": "code",
   "execution_count": 11,
   "metadata": {},
   "outputs": [],
   "source": [
    "### Parameters to tune\n",
    "ksize = 7 # Choose a larger odd number to smooth gradient measurements\n",
    "thresh = (50, 255)\n",
    "mag_thresh = (50, 255)\n",
    "dir_thresh = (0.8, 1.2)\n",
    "\n",
    "def gradient_sobel(img):\n",
    "    ''' Takes an RGB image and computes several gradients to remove non-lane pixels\n",
    "    '''\n",
    "    # Apply each of the thresholding functions\n",
    "    gradx = abs_sobel_threshold(img, orient='x', sobel_kernel=ksize, thresh=thresh)\n",
    "    grady = abs_sobel_threshold(img, orient='y', sobel_kernel=ksize, thresh=thresh)\n",
    "    mag_binary = mag_threshold(img, sobel_kernel=ksize, mag_thresh=mag_thresh)\n",
    "    dir_binary = dir_threshold(img, sobel_kernel=ksize, thresh=dir_thresh)\n",
    "    combined = np.zeros_like(dir_binary)\n",
    "    combined[((gradx == 1) & (grady == 1)) | ((mag_binary == 1) & (dir_binary == 1))] = 1\n",
    "    return combined"
   ]
  },
  {
   "cell_type": "markdown",
   "metadata": {},
   "source": [
    "## Let's test the functions we've developed:\n",
    "\n",
    "It's clearly missing some areas (especially yellow lines), but not bad!"
   ]
  },
  {
   "cell_type": "code",
   "execution_count": 12,
   "metadata": {
    "scrolled": false
   },
   "outputs": [],
   "source": [
    "PATH = Path('./test_images/')\n",
    "n_images = len(list(PATH.iterdir()))\n",
    "row_len = 2\n",
    "image_width = 80/row_len\n",
    "image = None\n",
    "\n",
    "# fig,axes=plt.subplots(n_images//row_len, row_len, figsize=(image_width,image_width/1.2))\n",
    "# for i, ax in enumerate(axes.flat):\n",
    "#     filename = list(PATH.iterdir())[i]\n",
    "#     img = plt.imread(filename)\n",
    "#     if img is None:\n",
    "#         print('ERROR')\n",
    "#         pdb.set_trace()\n",
    "        \n",
    "#     img = calibrate_image(img)\n",
    "#     img = gradient_sobel(img)\n",
    "\n",
    "#     ax.imshow(img, cmap='gray')\n",
    "#     ax.set_title(str(filename).split('\\\\')[-1], fontsize=25)\n",
    "# plt.tight_layout()"
   ]
  },
  {
   "cell_type": "markdown",
   "metadata": {},
   "source": [
    "# HSL / HSV Color Space"
   ]
  },
  {
   "cell_type": "code",
   "execution_count": 13,
   "metadata": {},
   "outputs": [],
   "source": [
    "### Parameters to tune\n",
    "s_min = 200\n",
    "s_max = 255\n",
    "v_min = 215\n",
    "v_max = 255\n",
    "\n",
    "def color_transform(img):\n",
    "    ''' Takes an RGB image, converts it to HSV and HLS, and uses thresholds to remove non-lane pixels\n",
    "    '''\n",
    "    hls = cv2.cvtColor(img, cv2.COLOR_RGB2HLS)\n",
    "    hsv = cv2.cvtColor(img, cv2.COLOR_RGB2HSV)\n",
    "    \n",
    "    s_channel = hls[:,:,2]\n",
    "    s_binary = np.zeros_like(s_channel)\n",
    "    s_binary[(s_channel > s_min) & (s_channel < s_max)] = 1\n",
    "    \n",
    "    v_channel = hsv[:,:,2]\n",
    "    v_binary = np.zeros_like(v_channel)\n",
    "    v_binary[(v_channel > v_min) & (v_channel < v_max)] = 1\n",
    "    \n",
    "    out = np.zeros_like(s_channel)\n",
    "    out[(s_binary == 1) | (v_binary == 1)] = 1\n",
    "    return out"
   ]
  },
  {
   "cell_type": "code",
   "execution_count": 14,
   "metadata": {},
   "outputs": [],
   "source": [
    "PATH = Path('./test_images/')\n",
    "n_images = len(list(PATH.iterdir()))\n",
    "row_len = 2\n",
    "image_width = 80/row_len\n",
    "image = None\n",
    "\n",
    "# fig,axes=plt.subplots(n_images//row_len, row_len, figsize=(image_width,image_width/1.2))\n",
    "# for i, ax in enumerate(axes.flat):\n",
    "#     filename = list(PATH.iterdir())[i]\n",
    "#     img = plt.imread(filename)\n",
    "#     if img is None:\n",
    "#         print('ERROR')\n",
    "#         pdb.set_trace()\n",
    "        \n",
    "#     img = calibrate_image(img)\n",
    "#     img = color_transform(img)\n",
    "\n",
    "#     ax.imshow(img, cmap='gray')\n",
    "#     ax.set_title(str(filename).split('\\\\')[-1], fontsize=25)\n",
    "# plt.tight_layout()"
   ]
  },
  {
   "cell_type": "markdown",
   "metadata": {},
   "source": [
    "# Test Gradient + Color Transform together"
   ]
  },
  {
   "cell_type": "code",
   "execution_count": 15,
   "metadata": {},
   "outputs": [],
   "source": [
    "def gradient_plus_color_transform(img):\n",
    "    ''' Converts an RGB image to a bimary lane line image using gradients + color space transforms\n",
    "    '''\n",
    "    grad = gradient_sobel(img)\n",
    "    color = color_transform(img)\n",
    "    \n",
    "    img = np.zeros_like(color)\n",
    "    img[(grad == 1) | (color == 1)] = 255 # At the end of the pipeline, create an image that's 0-255 scaled\n",
    "    return img"
   ]
  },
  {
   "cell_type": "code",
   "execution_count": 16,
   "metadata": {},
   "outputs": [],
   "source": [
    "PATH = Path('./test_images/')\n",
    "n_images = len(list(PATH.iterdir()))\n",
    "row_len = 2\n",
    "image_width = 80/row_len\n",
    "image = None\n",
    "\n",
    "# fig, axes = plt.subplots(n_images//row_len, row_len, figsize=(image_width,image_width/1.2))\n",
    "# for i, ax in enumerate(axes.flat):\n",
    "#     filename = list(PATH.iterdir())[i]\n",
    "#     img = plt.imread(filename)\n",
    "#     if img is None:\n",
    "#         print('ERROR')\n",
    "#         pdb.set_trace()\n",
    "        \n",
    "#     img = calibrate_image(img)\n",
    "#     img = gradient_plus_color_transform(img)\n",
    "\n",
    "#     ax.imshow(img, cmap='gray')\n",
    "#     ax.set_title(str(filename).split('\\\\')[-1], fontsize=25)\n",
    "# plt.tight_layout()"
   ]
  },
  {
   "cell_type": "markdown",
   "metadata": {},
   "source": [
    "# Perspective Transform"
   ]
  },
  {
   "cell_type": "code",
   "execution_count": 17,
   "metadata": {},
   "outputs": [],
   "source": [
    "img = mpimg.imread('./test_images/test1.jpg')\n",
    "# img = mpimg.imread('./test_images/test_lanes.png')\n",
    "# img = cv2.cvtColor(img, cv2.COLOR_RGB2GRAY) # Using mpimg.imread\n",
    "img = calibrate_image(img)\n",
    "img = gradient_plus_color_transform(img)\n",
    "w = 1280\n",
    "h = 720\n",
    "\n",
    "# fig, ax = plt.subplots(figsize=(40, 20))\n",
    "# ax.imshow(img, cmap='gray') \n",
    "\n",
    "offset = w*.25\n",
    "dst = np.float32(\n",
    "[[w*.25,0], # Top left\n",
    "[w*.75, 0], # Top right\n",
    "[w*.25, h], # Bottom left\n",
    "[w*.75, h]]) # Bottom right\n",
    "\n",
    "## Stealing from youtube...\n",
    "mid_width = 0.08\n",
    "bot_width = 0.76\n",
    "height_pct = .62\n",
    "bottom_trim = 0.935\n",
    "\n",
    "top_left =  (w*(0.5-mid_width/2), h*height_pct)\n",
    "top_right = (w*(0.5+mid_width/2), h*height_pct)\n",
    "bottom_left =  (w*(0.5-bot_width/2), h*bottom_trim)\n",
    "bottom_right = (w*(0.5+bot_width/2), h*bottom_trim)\n",
    "\n",
    "src = np.float32([top_left, top_right, bottom_left, bottom_right])\n",
    "# for pt in src:\n",
    "#     plt.plot(*pt,'bo',markersize=20)\n",
    "    \n",
    "# for pt in dst:\n",
    "#     plt.plot(*pt,'ro',markersize=20)"
   ]
  },
  {
   "cell_type": "code",
   "execution_count": 18,
   "metadata": {},
   "outputs": [],
   "source": [
    "M = cv2.getPerspectiveTransform(src, dst)\n",
    "Minv = cv2.getPerspectiveTransform(dst, src)\n",
    "\n",
    "# warped = cv2.warpPerspective(img, M, img_size, flags=cv2.INTER_LINEAR)\n",
    "# fig, ax = plt.subplots(figsize=(40, 20))\n",
    "# ax.imshow(warped, cmap='gray') "
   ]
  },
  {
   "cell_type": "code",
   "execution_count": 19,
   "metadata": {},
   "outputs": [],
   "source": [
    "PATH = Path('./test_images/')\n",
    "n_images = len(list(PATH.iterdir()))\n",
    "row_len = 2\n",
    "plot_width = 80/row_len\n",
    "plot_height = plot_width/1.2\n",
    "image = None\n",
    "\n",
    "# fig, axes = plt.subplots(n_images//row_len, row_len, figsize=(plot_width,plot_height))\n",
    "# for i, ax in enumerate(axes.flat):\n",
    "#     filename = list(PATH.iterdir())[i]\n",
    "#     img = plt.imread(filename)\n",
    "#     if img is None:\n",
    "#         print('ERROR')\n",
    "#         pdb.set_trace()\n",
    "        \n",
    "#     img = calibrate_image(img)\n",
    "#     img = gradient_plus_color_transform(img)\n",
    "#     img = cv2.warpPerspective(img, M, img.shape[::-1], flags=cv2.INTER_LINEAR)\n",
    "\n",
    "#     ax.imshow(img, cmap='gray')\n",
    "#     ax.set_title(str(filename).split('\\\\')[-1], fontsize=25)\n",
    "# plt.tight_layout()"
   ]
  },
  {
   "cell_type": "markdown",
   "metadata": {},
   "source": [
    "# Line Tracker"
   ]
  },
  {
   "cell_type": "code",
   "execution_count": 162,
   "metadata": {},
   "outputs": [
    {
     "data": {
      "text/plain": [
       "<matplotlib.image.AxesImage at 0x271c6dc8908>"
      ]
     },
     "execution_count": 162,
     "metadata": {},
     "output_type": "execute_result"
    },
    {
     "data": {
      "image/png": "[encoded data removed]",
      "text/plain": [
       "<matplotlib.figure.Figure at 0x271bff70710>"
      ]
     },
     "metadata": {},
     "output_type": "display_data"
    }
   ],
   "source": [
    "PATH = Path('./test_images/')\n",
    "filename = str(PATH/'test4.jpg')\n",
    "img = plt.imread(filename)\n",
    "if img is None:\n",
    "    print('ERROR')\n",
    "    pdb.set_trace()\n",
    "calibrated = calibrate_image(img)\n",
    "binary = gradient_plus_color_transform(calibrated)\n",
    "binary_warped = cv2.warpPerspective(binary, M, (w,h), flags=cv2.INTER_LINEAR).astype(np.uint8) # birds eye\n",
    "\n",
    "histogram = np.sum(binary_warped[h//2:,:], axis=0)\n",
    "out_img = np.dstack((binary_warped, binary_warped, binary_warped))*255\n",
    "midpoint = w//2\n",
    "leftx_base = np.argmax(histogram[:midpoint])\n",
    "rightx_base = np.argmax(histogram[midpoint:]) + midpoint\n",
    "\n",
    "nwindows = 9\n",
    "window_height = h//nwindows\n",
    "# Identify the x and y positions of all nonzero pixels in the image\n",
    "nonzero = warped.nonzero()\n",
    "nonzeroy = np.array(nonzero[0]) # Split up the X and Y coords\n",
    "nonzerox = np.array(nonzero[1])\n",
    "# Current positions to be updated for each window\n",
    "leftx_current = leftx_base\n",
    "rightx_current = rightx_base\n",
    "# Set the width of the windows +/- margin\n",
    "margin = 100\n",
    "# Set minimum number of pixels found to recenter window\n",
    "minpix = 50\n",
    "# Create empty lists to receive left and right lane pixel indices\n",
    "left_lane_inds = []\n",
    "right_lane_inds = []\n",
    "\n",
    "# Step through the windows one by one\n",
    "for window in range(nwindows):\n",
    "    # Identify window boundaries in x and y (and right and left)\n",
    "    win_y_low = binary_warped.shape[0] - (window+1)*window_height\n",
    "    win_y_high = binary_warped.shape[0] - window*window_height\n",
    "    win_xleft_low = leftx_current - margin\n",
    "    win_xleft_high = leftx_current + margin\n",
    "    win_xright_low = rightx_current - margin\n",
    "    win_xright_high = rightx_current + margin\n",
    "    # Draw the windows on the visualization image\n",
    "#     cv2.rectangle(out_img,(win_xleft_low,win_y_low),(win_xleft_high,win_y_high),(0,255,0), 2)\n",
    "#     cv2.rectangle(out_img,(win_xright_low,win_y_low),(win_xright_high,win_y_high),(0,255,0), 2)\n",
    "    # Identify the nonzero pixels in x and y within the window\n",
    "    good_left_inds = ((nonzeroy >= win_y_low) & (nonzeroy < win_y_high) & \n",
    "    (nonzerox >= win_xleft_low) &  (nonzerox < win_xleft_high)).nonzero()[0]\n",
    "    good_right_inds = ((nonzeroy >= win_y_low) & (nonzeroy < win_y_high) & \n",
    "    (nonzerox >= win_xright_low) &  (nonzerox < win_xright_high)).nonzero()[0]\n",
    "    # Append these indices to the lists\n",
    "    left_lane_inds.append(good_left_inds)\n",
    "    right_lane_inds.append(good_right_inds)\n",
    "    # If you found > minpix pixels, recenter next window on their mean position\n",
    "    if len(good_left_inds) > minpix:\n",
    "        leftx_current = np.int(np.mean(nonzerox[good_left_inds]))\n",
    "    if len(good_right_inds) > minpix:        \n",
    "        rightx_current = np.int(np.mean(nonzerox[good_right_inds]))\n",
    "        \n",
    "# Concatenate the arrays of indices\n",
    "left_lane_inds = np.concatenate(left_lane_inds)\n",
    "right_lane_inds = np.concatenate(right_lane_inds)\n",
    "\n",
    "# Extract left and right line pixel positions\n",
    "leftx = nonzerox[left_lane_inds]\n",
    "lefty = nonzeroy[left_lane_inds] \n",
    "rightx = nonzerox[right_lane_inds]\n",
    "righty = nonzeroy[right_lane_inds] \n",
    "\n",
    "# Fit a second order polynomial to each\n",
    "left_fit = np.polyfit(lefty, leftx, 2)\n",
    "right_fit = np.polyfit(righty, rightx, 2)\n",
    "\n",
    "# Generate x and y values for plotting\n",
    "ploty = np.linspace(0, h-1, num=h) # yvals = range(0,h)\n",
    "left_fitx = left_fit[0]*ploty**2 + left_fit[1]*ploty + left_fit[2]\n",
    "right_fitx = right_fit[0]*ploty**2 + right_fit[1]*ploty + right_fit[2]\n",
    "\n",
    "y_eval = np.max(ploty)\n",
    "left_curverad = ((1 + (2*left_fit[0]*y_eval + left_fit[1])**2)**1.5) / np.absolute(2*left_fit[0])\n",
    "right_curverad = ((1 + (2*right_fit[0]*y_eval + right_fit[1])**2)**1.5) / np.absolute(2*right_fit[0])\n",
    "# print(left_curverad, right_curverad)\n",
    "avg_curve = np.mean([left_curverad, right_curverad])\n",
    "\n",
    "# Create X coords for bottom line\n",
    "bottomX = np.linspace(left_fitx[-1], right_fitx[-1], num=right_fitx[-1]-left_fitx[-1])\n",
    "# Create Y coords for bottom line\n",
    "bottomY = np.array([719 for i in range(len(bottomX))])\n",
    "# Create X coords for top line\n",
    "topX = np.linspace(left_fitx[0], right_fitx[0], num=right_fitx[0]-left_fitx[0])\n",
    "# Create Y coords for top line\n",
    "topY = np.array([0 for i in range(len(topX))])\n",
    "\n",
    "allXcoords = np.concatenate((left_fitx,right_fitx,bottomX,topX))\n",
    "allYcoords = np.concatenate((ploty,ploty,bottomY,topY))\n",
    "poly_pts = np.array((allXcoords, allYcoords)).T\n",
    "real_out_img = np.zeros_like(out_img)\n",
    "cv2.fillPoly(real_out_img,np.int32([poly_pts]),color=[255,0,0])\n",
    "\n",
    "# out_img[nonzeroy[left_lane_inds], nonzerox[left_lane_inds]] = [255, 0, 0]\n",
    "# out_img[nonzeroy[right_lane_inds], nonzerox[right_lane_inds]] = [0, 0, 255]\n",
    "# plt.imshow(real_out_img)\n",
    "# plt.plot(left_fitx, ploty, color='yellow')\n",
    "# plt.plot(right_fitx, ploty, color='yellow')\n",
    "# plt.xlim(0, 1280)\n",
    "# plt.ylim(720, 0)\n",
    "\n",
    "camera_perspective = cv2.warpPerspective(real_out_img, Minv, (w, h), flags=cv2.INTER_LINEAR)\n",
    "\n",
    "plt.imshow(real_out_img)"
   ]
  },
  {
   "cell_type": "code",
   "execution_count": 166,
   "metadata": {},
   "outputs": [
    {
     "data": {
      "text/plain": [
       "array([378.21775801, 379.2209824 , 380.2242068 , 381.22743119,\n",
       "       382.23065558, 383.23387997, 384.23710436, 385.24032876,\n",
       "       386.24355315, 387.24677754, 388.25000193, 389.25322633,\n",
       "       390.25645072, 391.25967511, 392.2628995 , 393.26612389,\n",
       "       394.26934829, 395.27257268, 396.27579707, 397.27902146,\n",
       "       398.28224586, 399.28547025, 400.28869464, 401.29191903,\n",
       "       402.29514342, 403.29836782, 404.30159221, 405.3048166 ,\n",
       "       406.30804099, 407.31126539, 408.31448978, 409.31771417,\n",
       "       410.32093856, 411.32416295, 412.32738735, 413.33061174,\n",
       "       414.33383613, 415.33706052, 416.34028492, 417.34350931,\n",
       "       418.3467337 , 419.34995809, 420.35318249, 421.35640688,\n",
       "       422.35963127, 423.36285566, 424.36608005, 425.36930445,\n",
       "       426.37252884, 427.37575323, 428.37897762, 429.38220202,\n",
       "       430.38542641, 431.3886508 , 432.39187519, 433.39509958,\n",
       "       434.39832398, 435.40154837, 436.40477276, 437.40799715,\n",
       "       438.41122155, 439.41444594, 440.41767033, 441.42089472,\n",
       "       442.42411911, 443.42734351, 444.4305679 , 445.43379229,\n",
       "       446.43701668, 447.44024108, 448.44346547, 449.44668986,\n",
       "       450.44991425, 451.45313864, 452.45636304, 453.45958743,\n",
       "       454.46281182, 455.46603621, 456.46926061, 457.472485  ,\n",
       "       458.47570939, 459.47893378, 460.48215817, 461.48538257,\n",
       "       462.48860696, 463.49183135, 464.49505574, 465.49828014,\n",
       "       466.50150453, 467.50472892, 468.50795331, 469.5111777 ,\n",
       "       470.5144021 , 471.51762649, 472.52085088, 473.52407527,\n",
       "       474.52729967, 475.53052406, 476.53374845, 477.53697284,\n",
       "       478.54019724, 479.54342163, 480.54664602, 481.54987041,\n",
       "       482.5530948 , 483.5563192 , 484.55954359, 485.56276798,\n",
       "       486.56599237, 487.56921677, 488.57244116, 489.57566555,\n",
       "       490.57888994, 491.58211433, 492.58533873, 493.58856312,\n",
       "       494.59178751, 495.5950119 , 496.5982363 , 497.60146069,\n",
       "       498.60468508, 499.60790947, 500.61113386, 501.61435826,\n",
       "       502.61758265, 503.62080704, 504.62403143, 505.62725583,\n",
       "       506.63048022, 507.63370461, 508.636929  , 509.64015339,\n",
       "       510.64337779, 511.64660218, 512.64982657, 513.65305096,\n",
       "       514.65627536, 515.65949975, 516.66272414, 517.66594853,\n",
       "       518.66917292, 519.67239732, 520.67562171, 521.6788461 ,\n",
       "       522.68207049, 523.68529489, 524.68851928, 525.69174367,\n",
       "       526.69496806, 527.69819245, 528.70141685, 529.70464124,\n",
       "       530.70786563, 531.71109002, 532.71431442, 533.71753881,\n",
       "       534.7207632 , 535.72398759, 536.72721199, 537.73043638,\n",
       "       538.73366077, 539.73688516, 540.74010955, 541.74333395,\n",
       "       542.74655834, 543.74978273, 544.75300712, 545.75623152,\n",
       "       546.75945591, 547.7626803 , 548.76590469, 549.76912908,\n",
       "       550.77235348, 551.77557787, 552.77880226, 553.78202665,\n",
       "       554.78525105, 555.78847544, 556.79169983, 557.79492422,\n",
       "       558.79814861, 559.80137301, 560.8045974 , 561.80782179,\n",
       "       562.81104618, 563.81427058, 564.81749497, 565.82071936,\n",
       "       566.82394375, 567.82716814, 568.83039254, 569.83361693,\n",
       "       570.83684132, 571.84006571, 572.84329011, 573.8465145 ,\n",
       "       574.84973889, 575.85296328, 576.85618767, 577.85941207,\n",
       "       578.86263646, 579.86586085, 580.86908524, 581.87230964,\n",
       "       582.87553403, 583.87875842, 584.88198281, 585.8852072 ,\n",
       "       586.8884316 , 587.89165599, 588.89488038, 589.89810477,\n",
       "       590.90132917, 591.90455356, 592.90777795, 593.91100234,\n",
       "       594.91422674, 595.91745113, 596.92067552, 597.92389991,\n",
       "       598.9271243 , 599.9303487 , 600.93357309, 601.93679748,\n",
       "       602.94002187, 603.94324627, 604.94647066, 605.94969505,\n",
       "       606.95291944, 607.95614383, 608.95936823, 609.96259262,\n",
       "       610.96581701, 611.9690414 , 612.9722658 , 613.97549019,\n",
       "       614.97871458, 615.98193897, 616.98516336, 617.98838776,\n",
       "       618.99161215, 619.99483654, 620.99806093, 622.00128533,\n",
       "       623.00450972, 624.00773411, 625.0109585 , 626.01418289,\n",
       "       627.01740729, 628.02063168, 629.02385607, 630.02708046,\n",
       "       631.03030486, 632.03352925, 633.03675364, 634.03997803,\n",
       "       635.04320242, 636.04642682, 637.04965121, 638.0528756 ,\n",
       "       639.05609999, 640.05932439, 641.06254878, 642.06577317,\n",
       "       643.06899756, 644.07222195, 645.07544635, 646.07867074,\n",
       "       647.08189513, 648.08511952, 649.08834392, 650.09156831,\n",
       "       651.0947927 , 652.09801709, 653.10124149, 654.10446588,\n",
       "       655.10769027, 656.11091466, 657.11413905, 658.11736345,\n",
       "       659.12058784, 660.12381223, 661.12703662, 662.13026102,\n",
       "       663.13348541, 664.1367098 , 665.13993419, 666.14315858,\n",
       "       667.14638298, 668.14960737, 669.15283176, 670.15605615,\n",
       "       671.15928055, 672.16250494, 673.16572933, 674.16895372,\n",
       "       675.17217811, 676.17540251, 677.1786269 , 678.18185129,\n",
       "       679.18507568, 680.18830008, 681.19152447, 682.19474886,\n",
       "       683.19797325, 684.20119764, 685.20442204, 686.20764643,\n",
       "       687.21087082, 688.21409521, 689.21731961, 690.220544  ,\n",
       "       691.22376839, 692.22699278, 693.23021717, 694.23344157,\n",
       "       695.23666596, 696.23989035, 697.24311474, 698.24633914,\n",
       "       699.24956353, 700.25278792, 701.25601231, 702.2592367 ,\n",
       "       703.2624611 , 704.26568549, 705.26890988, 706.27213427,\n",
       "       707.27535867, 708.27858306, 709.28180745, 710.28503184,\n",
       "       711.28825624, 712.29148063, 713.29470502, 714.29792941,\n",
       "       715.3011538 , 716.3043782 , 717.30760259, 718.31082698,\n",
       "       719.31405137, 720.31727577, 721.32050016, 722.32372455,\n",
       "       723.32694894, 724.33017333, 725.33339773, 726.33662212,\n",
       "       727.33984651, 728.3430709 , 729.3462953 , 730.34951969,\n",
       "       731.35274408, 732.35596847, 733.35919286, 734.36241726,\n",
       "       735.36564165, 736.36886604, 737.37209043, 738.37531483,\n",
       "       739.37853922, 740.38176361, 741.384988  , 742.38821239,\n",
       "       743.39143679, 744.39466118, 745.39788557, 746.40110996,\n",
       "       747.40433436, 748.40755875, 749.41078314, 750.41400753,\n",
       "       751.41723192, 752.42045632, 753.42368071, 754.4269051 ,\n",
       "       755.43012949, 756.43335389, 757.43657828, 758.43980267,\n",
       "       759.44302706, 760.44625145, 761.44947585, 762.45270024,\n",
       "       763.45592463, 764.45914902, 765.46237342, 766.46559781,\n",
       "       767.4688222 , 768.47204659, 769.47527099, 770.47849538,\n",
       "       771.48171977, 772.48494416, 773.48816855, 774.49139295,\n",
       "       775.49461734, 776.49784173, 777.50106612, 778.50429052,\n",
       "       779.50751491, 780.5107393 , 781.51396369, 782.51718808,\n",
       "       783.52041248, 784.52363687, 785.52686126, 786.53008565,\n",
       "       787.53331005, 788.53653444, 789.53975883, 790.54298322,\n",
       "       791.54620761, 792.54943201, 793.5526564 , 794.55588079,\n",
       "       795.55910518, 796.56232958, 797.56555397, 798.56877836,\n",
       "       799.57200275, 800.57522714, 801.57845154, 802.58167593,\n",
       "       803.58490032, 804.58812471, 805.59134911, 806.5945735 ,\n",
       "       807.59779789, 808.60102228, 809.60424667, 810.60747107,\n",
       "       811.61069546, 812.61391985, 813.61714424, 814.62036864,\n",
       "       815.62359303, 816.62681742, 817.63004181, 818.6332662 ,\n",
       "       819.6364906 , 820.63971499, 821.64293938, 822.64616377,\n",
       "       823.64938817, 824.65261256, 825.65583695, 826.65906134,\n",
       "       827.66228574, 828.66551013, 829.66873452, 830.67195891,\n",
       "       831.6751833 , 832.6784077 , 833.68163209, 834.68485648,\n",
       "       835.68808087, 836.69130527, 837.69452966, 838.69775405,\n",
       "       839.70097844, 840.70420283, 841.70742723, 842.71065162,\n",
       "       843.71387601, 844.7171004 , 845.7203248 , 846.72354919,\n",
       "       847.72677358, 848.72999797, 849.73322236, 850.73644676,\n",
       "       851.73967115, 852.74289554, 853.74611993, 854.74934433,\n",
       "       855.75256872, 856.75579311, 857.7590175 , 858.76224189,\n",
       "       859.76546629, 860.76869068, 861.77191507, 862.77513946,\n",
       "       863.77836386, 864.78158825, 865.78481264, 866.78803703,\n",
       "       867.79126142, 868.79448582, 869.79771021, 870.8009346 ,\n",
       "       871.80415899, 872.80738339, 873.81060778, 874.81383217,\n",
       "       875.81705656, 876.82028095, 877.82350535, 878.82672974,\n",
       "       879.82995413, 880.83317852, 881.83640292, 882.83962731,\n",
       "       883.8428517 , 884.84607609, 885.84930049, 886.85252488,\n",
       "       887.85574927, 888.85897366, 889.86219805, 890.86542245,\n",
       "       891.86864684, 892.87187123, 893.87509562, 894.87832002,\n",
       "       895.88154441, 896.8847688 , 897.88799319, 898.89121758,\n",
       "       899.89444198, 900.89766637, 901.90089076, 902.90411515,\n",
       "       903.90733955, 904.91056394, 905.91378833, 906.91701272,\n",
       "       907.92023711, 908.92346151, 909.9266859 , 910.92991029,\n",
       "       911.93313468, 912.93635908, 913.93958347, 914.94280786,\n",
       "       915.94603225, 916.94925664, 917.95248104, 918.95570543])"
      ]
     },
     "execution_count": 166,
     "metadata": {},
     "output_type": "execute_result"
    }
   ],
   "source": [
    "bottomX"
   ]
  },
  {
   "cell_type": "code",
   "execution_count": 155,
   "metadata": {},
   "outputs": [
    {
     "data": {
      "text/plain": [
       "(1440, 2)"
      ]
     },
     "execution_count": 155,
     "metadata": {},
     "output_type": "execute_result"
    }
   ],
   "source": [
    "poly_pts.shape"
   ]
  },
  {
   "cell_type": "code",
   "execution_count": 135,
   "metadata": {},
   "outputs": [],
   "source": [
    "?cv2.fillPoly()"
   ]
  }
 ],
 "metadata": {
  "kernelspec": {
   "display_name": "Python 3",
   "language": "python",
   "name": "python3"
  },
  "language_info": {
   "codemirror_mode": {
    "name": "ipython",
    "version": 3
   },
   "file_extension": ".py",
   "mimetype": "text/x-python",
   "name": "python",
   "nbconvert_exporter": "python",
   "pygments_lexer": "ipython3",
   "version": "3.6.4"
  }
 },
 "nbformat": 4,
 "nbformat_minor": 2
}
