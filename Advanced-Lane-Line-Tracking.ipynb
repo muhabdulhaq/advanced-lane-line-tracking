{
 "cells": [
  {
   "cell_type": "code",
   "execution_count": 17,
   "metadata": {},
   "outputs": [],
   "source": [
    "%matplotlib inline\n",
    "%reload_ext autoreload\n",
    "%autoreload 2"
   ]
  },
  {
   "cell_type": "markdown",
   "metadata": {},
   "source": [
    "# Advanced Lane Line Tracking\n",
    "\n",
    "Due to errors with Jupyter notebook crashing when too many images are displayed, some visualization code has been commented out."
   ]
  },
  {
   "cell_type": "code",
   "execution_count": 18,
   "metadata": {},
   "outputs": [],
   "source": [
    "import numpy as np\n",
    "import cv2\n",
    "import matplotlib.pyplot as plt\n",
    "import matplotlib.image as mpimg\n",
    "import pdb\n",
    "from pathlib import Path\n",
    "from moviepy.editor import VideoFileClip"
   ]
  },
  {
   "cell_type": "markdown",
   "metadata": {},
   "source": [
    "## Camera Calibration Step"
   ]
  },
  {
   "cell_type": "code",
   "execution_count": 19,
   "metadata": {},
   "outputs": [],
   "source": [
    "PATH = Path('./camera_calibration/')\n",
    "n_cols = 9\n",
    "n_rows = 6\n",
    "objpoints = [] # 3D points in real world space\n",
    "imgpoints = [] # 2D points in image plane\n",
    "\n",
    "objp = np.zeros((n_cols*n_rows,3), np.float32)\n",
    "objp[:,:2] = np.mgrid[0:n_cols,0:n_rows].T.reshape(-1,2)"
   ]
  },
  {
   "cell_type": "code",
   "execution_count": 20,
   "metadata": {},
   "outputs": [
    {
     "name": "stdout",
     "output_type": "stream",
     "text": [
      "Unable to calibrate camera_calibration\\calibration1.jpg\n",
      "Unable to calibrate camera_calibration\\calibration4.jpg\n",
      "Unable to calibrate camera_calibration\\calibration5.jpg\n"
     ]
    }
   ],
   "source": [
    "for filename in list(PATH.iterdir()):\n",
    "    img = plt.imread(filename)\n",
    "    if img is None:\n",
    "        print('ERROR')\n",
    "        pdb.set_trace()\n",
    "    \n",
    "    gray = cv2.cvtColor(img, cv2.COLOR_BGR2GRAY)\n",
    "    ret, corners = cv2.findChessboardCorners(gray, (n_cols, n_rows), None)\n",
    "    if ret == True:\n",
    "        imgpoints.append(corners)\n",
    "        objpoints.append(objp)\n",
    "        img = cv2.drawChessboardCorners(img, (n_cols, n_rows), corners, ret)\n",
    "    else: \n",
    "        print('Unable to calibrate', filename)\n",
    "\n",
    "ret, mtx, dist, rvecs, tvecs = cv2.calibrateCamera(objpoints, imgpoints, gray.shape[::-1], None, None)"
   ]
  },
  {
   "cell_type": "markdown",
   "metadata": {},
   "source": [
    "Let's grab a warped looking file and run it through the calibration step..."
   ]
  },
  {
   "cell_type": "code",
   "execution_count": 21,
   "metadata": {},
   "outputs": [],
   "source": [
    "# filename = list(PATH.iterdir())[11]\n",
    "# img = plt.imread(filename)\n",
    "# dst = cv2.undistort(img, mtx, dist, None, mtx)\n",
    "\n",
    "# f, (ax1, ax2) = plt.subplots(1, 2, figsize=(24, 9))\n",
    "# f.tight_layout()\n",
    "# ax1.imshow(img)\n",
    "# ax1.set_title('Original Image', fontsize=50)\n",
    "# ax2.imshow(dst)\n",
    "# ax2.set_title('Undistorted Image', fontsize=50)\n",
    "# plt.subplots_adjust(left=0., right=1, top=0.9, bottom=0.)"
   ]
  },
  {
   "cell_type": "code",
   "execution_count": 22,
   "metadata": {},
   "outputs": [],
   "source": [
    "def calibrate_image(img):\n",
    "    return cv2.undistort(img, mtx, dist, None, mtx)"
   ]
  },
  {
   "cell_type": "markdown",
   "metadata": {},
   "source": [
    "## Let's take a look at some of the test images\n",
    "\n",
    "This code is very handy for displaying a few images easily"
   ]
  },
  {
   "cell_type": "code",
   "execution_count": 23,
   "metadata": {},
   "outputs": [],
   "source": [
    "# PATH = Path('./test_images/')\n",
    "# n_images = len(list(PATH.iterdir()))\n",
    "# row_len = 4\n",
    "\n",
    "# fig,axes=plt.subplots(n_images//row_len, row_len, figsize=(15,5))\n",
    "# for i, ax in enumerate(axes.flat):\n",
    "#     filename = list(PATH.iterdir())[i]\n",
    "#     img = plt.imread(filename)\n",
    "#     img = calibrate_image(img)\n",
    "#     if img is None:\n",
    "#         print('ERROR')\n",
    "#         pdb.set_trace()\n",
    "#     ax.imshow(img)\n",
    "#     ax.set_title(str(filename).split('\\\\')[-1])\n",
    "# plt.tight_layout()"
   ]
  },
  {
   "cell_type": "markdown",
   "metadata": {},
   "source": [
    "# Sobel Gradient"
   ]
  },
  {
   "cell_type": "code",
   "execution_count": 24,
   "metadata": {},
   "outputs": [],
   "source": [
    "def abs_sobel_threshold(img, orient='x', sobel_kernel=3, thresh=(0, 255)):\n",
    "    gray = cv2.cvtColor(img, cv2.COLOR_RGB2GRAY) # Using mpimg.imread\n",
    "    # Take the derivative in x or y given orient = 'x' or 'y'\n",
    "    if orient == 'x':\n",
    "       sobel = cv2.Sobel(gray, cv2.CV_64F, 1, 0)\n",
    "    else:\n",
    "       sobel = cv2.Sobel(gray, cv2.CV_64F, 0, 1)\n",
    "    # 3) Take the absolute value of the gradient\n",
    "    abs_sobel = np.absolute(sobel)\n",
    "    # 4) Scale to 8-bit (0 - 255) then convert to type = np.uint8\n",
    "    max_sobel = np.max(abs_sobel)\n",
    "    scaled_sobel = abs_sobel * 255 / max_sobel\n",
    "    scaled_sobel = scaled_sobel.astype(np.uint8)\n",
    "    # 5) Create a mask of 1's where the scaled gradient magnitude\n",
    "            # is > thresh_min and < thresh_max\n",
    "    s_binary = np.zeros_like(scaled_sobel)\n",
    "    s_binary[(scaled_sobel >= thresh[0]) & (scaled_sobel <= thresh[1])] = 1\n",
    "    # 6) Return this mask as your binary_output image\n",
    "#     print(np.max(scaled_sobel))\n",
    "    return s_binary\n",
    "\n",
    "def mag_threshold(img, sobel_kernel=3, mag_thresh=(0, 255)):\n",
    "    gray = cv2.cvtColor(img, cv2.COLOR_RGB2GRAY) # Using mpimg.imread\n",
    "    # Take the gradient in x and y separately\n",
    "    sobel_x = cv2.Sobel(gray, cv2.CV_64F, 1, 0, ksize=sobel_kernel) # x gradient\n",
    "    sobel_y = cv2.Sobel(gray, cv2.CV_64F, 0, 1, ksize=sobel_kernel) # y gradient\n",
    "\n",
    "    # Calculate the magnitude \n",
    "    sum_sq = np.sqrt(sobel_x**2 + sobel_y**2)\n",
    "    max_sobel = np.max(sum_sq)\n",
    "    \n",
    "    # Scale to 8-bit (0 - 255) and convert to type = np.uint8\n",
    "    scaled_sobel = sum_sq * 255 / max_sobel\n",
    "    scaled_sobel = scaled_sobel.astype(np.uint8)\n",
    "    \n",
    "    # Create a binary mask where mag thresholds are met\n",
    "    post_threshold = np.zeros_like(scaled_sobel)\n",
    "    post_threshold[(scaled_sobel >= mag_thresh[0]) & (scaled_sobel <= mag_thresh[1])] = 1\n",
    "    return post_threshold\n",
    "\n",
    "def dir_threshold(img, sobel_kernel=3, thresh=(0, np.pi/2)):\n",
    "    gray = cv2.cvtColor(img, cv2.COLOR_RGB2GRAY) # Using mpimg.imread\n",
    "    # Take the gradient in x and y separately\n",
    "    sobel_x = cv2.Sobel(gray, cv2.CV_64F, 1, 0, ksize=sobel_kernel) # x gradient\n",
    "    sobel_y = cv2.Sobel(gray, cv2.CV_64F, 0, 1, ksize=sobel_kernel) # y gradient\n",
    "    # Take the absolute value of the x and y gradients\n",
    "    abs_sobel_x = np.absolute(sobel_x)\n",
    "    abs_sobel_y = np.absolute(sobel_y)\n",
    "    # Use arctan2 to calculate the direction of the gradient \n",
    "    atan = np.arctan2(abs_sobel_y, abs_sobel_x) # Element-wise arc tangent of y/x\n",
    "    # Create a binary mask where direction thresholds are met\n",
    "    post_threshold = np.zeros_like(atan)\n",
    "    post_threshold[(atan >= thresh[0]) & (atan <= thresh[1])] = 1\n",
    "    return post_threshold"
   ]
  },
  {
   "cell_type": "code",
   "execution_count": 25,
   "metadata": {},
   "outputs": [],
   "source": [
    "### Parameters to tune\n",
    "ksize = 7 # Choose a larger odd number to smooth gradient measurements\n",
    "thresh = (50, 255)\n",
    "mag_thresh = (50, 255)\n",
    "dir_thresh = (0.8, 1.2)\n",
    "\n",
    "def gradient_sobel(img):\n",
    "    ''' Takes an RGB image and computes several gradients to remove non-lane pixels\n",
    "    '''\n",
    "    # Apply each of the thresholding functions\n",
    "    gradx = abs_sobel_threshold(img, orient='x', sobel_kernel=ksize, thresh=thresh)\n",
    "    grady = abs_sobel_threshold(img, orient='y', sobel_kernel=ksize, thresh=thresh)\n",
    "    mag_binary = mag_threshold(img, sobel_kernel=ksize, mag_thresh=mag_thresh)\n",
    "    dir_binary = dir_threshold(img, sobel_kernel=ksize, thresh=dir_thresh)\n",
    "    combined = np.zeros_like(dir_binary)\n",
    "    combined[((gradx == 1) & (grady == 1)) | ((mag_binary == 1) & (dir_binary == 1))] = 1\n",
    "    return combined"
   ]
  },
  {
   "cell_type": "markdown",
   "metadata": {},
   "source": [
    "## Let's test the functions we've developed:\n",
    "\n",
    "It's clearly missing some areas (especially yellow lines), but not bad!"
   ]
  },
  {
   "cell_type": "code",
   "execution_count": 26,
   "metadata": {
    "scrolled": false
   },
   "outputs": [],
   "source": [
    "# PATH = Path('./test_images/')\n",
    "# n_images = len(list(PATH.iterdir()))\n",
    "# row_len = 2\n",
    "# image_width = 80/row_len\n",
    "# image = None\n",
    "\n",
    "# fig,axes=plt.subplots(n_images//row_len, row_len, figsize=(image_width,image_width/1.2))\n",
    "# for i, ax in enumerate(axes.flat):\n",
    "#     filename = list(PATH.iterdir())[i]\n",
    "#     img = plt.imread(filename)\n",
    "#     if img is None:\n",
    "#         print('ERROR')\n",
    "#         pdb.set_trace()\n",
    "        \n",
    "#     img = calibrate_image(img)\n",
    "#     img = gradient_sobel(img)\n",
    "\n",
    "#     ax.imshow(img, cmap='gray')\n",
    "#     ax.set_title(str(filename).split('\\\\')[-1], fontsize=25)\n",
    "# plt.tight_layout()"
   ]
  },
  {
   "cell_type": "markdown",
   "metadata": {},
   "source": [
    "# HSL / HSV Color Space"
   ]
  },
  {
   "cell_type": "code",
   "execution_count": 27,
   "metadata": {},
   "outputs": [],
   "source": [
    "### Parameters to tune\n",
    "s_min = 200\n",
    "s_max = 255\n",
    "v_min = 215\n",
    "v_max = 255\n",
    "\n",
    "def color_transform(img):\n",
    "    ''' Takes an RGB image, converts it to HSV and HLS, and uses thresholds to remove non-lane pixels\n",
    "    '''\n",
    "    hls = cv2.cvtColor(img, cv2.COLOR_RGB2HLS)\n",
    "    hsv = cv2.cvtColor(img, cv2.COLOR_RGB2HSV)\n",
    "    \n",
    "    s_channel = hls[:,:,2]\n",
    "    s_binary = np.zeros_like(s_channel)\n",
    "    s_binary[(s_channel > s_min) & (s_channel < s_max)] = 1\n",
    "    \n",
    "    v_channel = hsv[:,:,2]\n",
    "    v_binary = np.zeros_like(v_channel)\n",
    "    v_binary[(v_channel > v_min) & (v_channel < v_max)] = 1\n",
    "    \n",
    "    out = np.zeros_like(s_channel)\n",
    "    out[(s_binary == 1) | (v_binary == 1)] = 1\n",
    "    return out"
   ]
  },
  {
   "cell_type": "code",
   "execution_count": 28,
   "metadata": {},
   "outputs": [],
   "source": [
    "# PATH = Path('./test_images/')\n",
    "# n_images = len(list(PATH.iterdir()))\n",
    "# row_len = 2\n",
    "# image_width = 80/row_len\n",
    "# image = None\n",
    "\n",
    "# fig,axes=plt.subplots(n_images//row_len, row_len, figsize=(image_width,image_width/1.2))\n",
    "# for i, ax in enumerate(axes.flat):\n",
    "#     filename = list(PATH.iterdir())[i]\n",
    "#     img = plt.imread(filename)\n",
    "#     if img is None:\n",
    "#         print('ERROR')\n",
    "#         pdb.set_trace()\n",
    "        \n",
    "#     img = calibrate_image(img)\n",
    "#     img = color_transform(img)\n",
    "\n",
    "#     ax.imshow(img, cmap='gray')\n",
    "#     ax.set_title(str(filename).split('\\\\')[-1], fontsize=25)\n",
    "# plt.tight_layout()"
   ]
  },
  {
   "cell_type": "markdown",
   "metadata": {},
   "source": [
    "# Test Gradient + Color Transform together"
   ]
  },
  {
   "cell_type": "code",
   "execution_count": 29,
   "metadata": {},
   "outputs": [],
   "source": [
    "def gradient_plus_color_transform(img):\n",
    "    ''' Converts an RGB image to a bimary lane line image using gradients + color space transforms\n",
    "    '''\n",
    "    grad = gradient_sobel(img)\n",
    "    color = color_transform(img)\n",
    "    \n",
    "    img = np.zeros_like(color)\n",
    "    img[(grad == 1) | (color == 1)] = 255 # At the end of the pipeline, create an image that's 0-255 scaled\n",
    "    return img"
   ]
  },
  {
   "cell_type": "code",
   "execution_count": 30,
   "metadata": {},
   "outputs": [],
   "source": [
    "# PATH = Path('./test_images/')\n",
    "# n_images = len(list(PATH.iterdir()))\n",
    "# row_len = 2\n",
    "# image_width = 80/row_len\n",
    "# image = None\n",
    "\n",
    "# fig, axes = plt.subplots(n_images//row_len, row_len, figsize=(image_width,image_width/1.2))\n",
    "# for i, ax in enumerate(axes.flat):\n",
    "#     filename = list(PATH.iterdir())[i]\n",
    "#     img = plt.imread(filename)\n",
    "#     if img is None:\n",
    "#         print('ERROR')\n",
    "#         pdb.set_trace()\n",
    "        \n",
    "#     img = calibrate_image(img)\n",
    "#     img = gradient_plus_color_transform(img)\n",
    "\n",
    "#     ax.imshow(img, cmap='gray')\n",
    "#     ax.set_title(str(filename).split('\\\\')[-1], fontsize=25)\n",
    "# plt.tight_layout()"
   ]
  },
  {
   "cell_type": "markdown",
   "metadata": {},
   "source": [
    "# Perspective Transform"
   ]
  },
  {
   "cell_type": "code",
   "execution_count": 31,
   "metadata": {},
   "outputs": [
    {
     "data": {
      "image/png": "[encoded data removed]",
      "text/plain": [
       "<matplotlib.figure.Figure at 0x18b95046978>"
      ]
     },
     "metadata": {},
     "output_type": "display_data"
    }
   ],
   "source": [
    "img = mpimg.imread('./test_images/test1.jpg')\n",
    "# img = mpimg.imread('./test_images/test_lanes.png')\n",
    "# img = cv2.cvtColor(img, cv2.COLOR_RGB2GRAY) # Using mpimg.imread\n",
    "img = calibrate_image(img)\n",
    "img = gradient_plus_color_transform(img)\n",
    "w = 1280\n",
    "h = 720\n",
    "\n",
    "fig, ax = plt.subplots(figsize=(40, 20))\n",
    "ax.imshow(img, cmap='gray') \n",
    "\n",
    "offset = w*.25\n",
    "dst = np.float32(\n",
    "[[w*.25,0], # Top left\n",
    "[w*.75, 0], # Top right\n",
    "[w*.25, h], # Bottom left\n",
    "[w*.75, h]]) # Bottom right\n",
    "\n",
    "mid_width = 0.08\n",
    "bot_width = 0.76\n",
    "height_pct = .62\n",
    "bottom_trim = 0.935\n",
    "\n",
    "top_left =  (w*(0.5-mid_width/2), h*height_pct)\n",
    "top_right = (w*(0.5+mid_width/2), h*height_pct)\n",
    "bottom_left =  (w*(0.5-bot_width/2), h*bottom_trim)\n",
    "bottom_right = (w*(0.5+bot_width/2), h*bottom_trim)\n",
    "\n",
    "src = np.float32([top_left, top_right, bottom_left, bottom_right])\n",
    "for pt in src:\n",
    "    plt.plot(*pt,'bo',markersize=20)\n",
    "    \n",
    "for pt in dst:\n",
    "    plt.plot(*pt,'ro',markersize=20)"
   ]
  },
  {
   "cell_type": "code",
   "execution_count": 34,
   "metadata": {},
   "outputs": [],
   "source": [
    "M = cv2.getPerspectiveTransform(src, dst)\n",
    "Minv = cv2.getPerspectiveTransform(dst, src)\n",
    "\n",
    "# warped = cv2.warpPerspective(img, M, (w, h), flags=cv2.INTER_LINEAR)\n",
    "# fig, ax = plt.subplots(figsize=(40, 20))\n",
    "# ax.imshow(warped, cmap='gray') "
   ]
  },
  {
   "cell_type": "code",
   "execution_count": null,
   "metadata": {},
   "outputs": [],
   "source": [
    "# PATH = Path('./test_images/')\n",
    "# n_images = len(list(PATH.iterdir()))\n",
    "# row_len = 2\n",
    "# plot_width = 80/row_len\n",
    "# plot_height = plot_width/1.2\n",
    "# image = None\n",
    "\n",
    "# fig, axes = plt.subplots(n_images//row_len, row_len, figsize=(plot_width,plot_height))\n",
    "# for i, ax in enumerate(axes.flat):\n",
    "#     filename = list(PATH.iterdir())[i]\n",
    "#     img = plt.imread(filename)\n",
    "#     if img is None:\n",
    "#         print('ERROR')\n",
    "#         pdb.set_trace()\n",
    "        \n",
    "#     img = calibrate_image(img)\n",
    "#     img = gradient_plus_color_transform(img)\n",
    "#     img = cv2.warpPerspective(img, M, img.shape[::-1], flags=cv2.INTER_LINEAR)\n",
    "\n",
    "#     ax.imshow(img, cmap='gray')\n",
    "#     ax.set_title(str(filename).split('\\\\')[-1], fontsize=25)\n",
    "# plt.tight_layout()"
   ]
  },
  {
   "cell_type": "markdown",
   "metadata": {},
   "source": [
    "# Line Tracker"
   ]
  },
  {
   "cell_type": "code",
   "execution_count": 45,
   "metadata": {},
   "outputs": [],
   "source": [
    "xm_per_pix=3.7/500 # Lane is 3.7 meters wide, and 500 pixels wide from bird's eye view\n",
    "ym_per_pix=30/720 # Visible lane is about 30 meters long, and 720 pixels high from bird's eye view \n",
    "\n",
    "def graph_lane_lines(binary_warped):\n",
    "    ''' Takes in a binary birds eye image and returns the camera's\n",
    "    perspective green polygon. You must separately overlay the original image\n",
    "    '''\n",
    "    histogram = np.sum(binary_warped[h//2:,:], axis=0)\n",
    "    out_img = np.dstack((binary_warped, binary_warped, binary_warped))*255\n",
    "    midpoint = w//2\n",
    "    leftx_base = np.argmax(histogram[:midpoint])\n",
    "    rightx_base = np.argmax(histogram[midpoint:]) + midpoint\n",
    "\n",
    "    nwindows = 9\n",
    "    window_height = h//nwindows\n",
    "    # Identify the x and y positions of all nonzero pixels in the image\n",
    "    nonzero = binary_warped.nonzero()\n",
    "    nonzeroy = np.array(nonzero[0]) # Split up the X and Y coords\n",
    "    nonzerox = np.array(nonzero[1])\n",
    "    # Current positions to be updated for each window\n",
    "    leftx_current = leftx_base\n",
    "    rightx_current = rightx_base\n",
    "    # Set the width of the windows +/- margin\n",
    "    margin = 100\n",
    "    # Set minimum number of pixels found to recenter window\n",
    "    minpix = 50\n",
    "    # Create empty lists to receive left and right lane pixel indices\n",
    "    left_lane_inds = []\n",
    "    right_lane_inds = []\n",
    "\n",
    "    # Step through the windows one by one\n",
    "    for window in range(nwindows):\n",
    "    # Identify window boundaries in x and y (and right and left)\n",
    "        win_y_low = binary_warped.shape[0] - (window+1)*window_height\n",
    "        win_y_high = binary_warped.shape[0] - window*window_height\n",
    "        win_xleft_low = leftx_current - margin\n",
    "        win_xleft_high = leftx_current + margin\n",
    "        win_xright_low = rightx_current - margin\n",
    "        win_xright_high = rightx_current + margin\n",
    "        good_left_inds = ((nonzeroy >= win_y_low) & (nonzeroy < win_y_high) & \n",
    "        (nonzerox >= win_xleft_low) &  (nonzerox < win_xleft_high)).nonzero()[0]\n",
    "        good_right_inds = ((nonzeroy >= win_y_low) & (nonzeroy < win_y_high) & \n",
    "        (nonzerox >= win_xright_low) &  (nonzerox < win_xright_high)).nonzero()[0]\n",
    "        # Append these indices to the lists\n",
    "        left_lane_inds.append(good_left_inds)\n",
    "        right_lane_inds.append(good_right_inds)\n",
    "        # If you found > minpix pixels, recenter next window on their mean position\n",
    "        if len(good_left_inds) > minpix:\n",
    "            leftx_current = np.int(np.mean(nonzerox[good_left_inds]))\n",
    "        if len(good_right_inds) > minpix:        \n",
    "            rightx_current = np.int(np.mean(nonzerox[good_right_inds]))\n",
    "\n",
    "    # Concatenate the arrays of indices\n",
    "    left_lane_inds = np.concatenate(left_lane_inds)\n",
    "    right_lane_inds = np.concatenate(right_lane_inds)\n",
    "\n",
    "    # Extract left and right line pixel positions\n",
    "    leftx = nonzerox[left_lane_inds]\n",
    "    lefty = nonzeroy[left_lane_inds] \n",
    "    rightx = nonzerox[right_lane_inds]\n",
    "    righty = nonzeroy[right_lane_inds] \n",
    "\n",
    "    # Fit a second order polynomial to each lane line\n",
    "    left_fit = np.polyfit(lefty, leftx, 2)\n",
    "    right_fit = np.polyfit(righty, rightx, 2)\n",
    "\n",
    "    # Generate x and y values for plotting\n",
    "    ploty = np.linspace(0, h-1, num=h) # yvals = range(0,h)\n",
    "    left_fitx = left_fit[0]*ploty**2 + left_fit[1]*ploty + left_fit[2]\n",
    "    right_fitx = right_fit[0]*ploty**2 + right_fit[1]*ploty + right_fit[2]\n",
    "\n",
    "    y_eval = np.max(ploty)\n",
    "    # left_curverad = ((1 + (2*left_fit[0]*y_eval + left_fit[1])**2)**1.5) / np.absolute(2*left_fit[0])\n",
    "    # right_curverad = ((1 + (2*right_fit[0]*y_eval + right_fit[1])**2)**1.5) / np.absolute(2*right_fit[0])\n",
    "    # avg_curve = np.mean([left_curverad, right_curverad])\n",
    "\n",
    "    left_line_window1 = np.array([np.transpose(np.vstack([left_fitx, ploty]))])\n",
    "    left_line_window2 = np.array([np.flipud(np.transpose(np.vstack([right_fitx,ploty])))])\n",
    "    left_line_pts = np.hstack((left_line_window1, left_line_window2))\n",
    "\n",
    "    real_out_img = np.zeros_like(out_img)\n",
    "    cv2.fillPoly(real_out_img, np.int_([left_line_pts]), (0, 0, 255))\n",
    "    camera_perspective = cv2.warpPerspective(real_out_img, Minv, (w, h), flags=cv2.INTER_LINEAR)\n",
    "\n",
    "    ### Determine the real world lane curvature radius \n",
    "    left_fit_cr = np.polyfit(lefty*ym_per_pix, leftx*xm_per_pix, 2)\n",
    "    right_fit_cr = np.polyfit(righty*ym_per_pix, rightx*xm_per_pix, 2)   \n",
    "    left_curverad = ((1 + (2*left_fit_cr[0]*y_eval*ym_per_pix + left_fit_cr[1])**2)**1.5) / np.absolute(2*left_fit_cr[0])\n",
    "    right_curverad = ((1 + (2*right_fit_cr[0]*y_eval*ym_per_pix + right_fit_cr[1])**2)**1.5) / np.absolute(2*right_fit_cr[0])\n",
    "    avg_curve = np.mean([left_curverad, right_curverad])\n",
    "    \n",
    "    ### Add text to image regarding position and lane curvature\n",
    "    camera_center = (left_fitx[-1] + right_fitx[-1])/2\n",
    "    center_diff = (camera_center - w/2) * xm_per_pix\n",
    "    side_pos = 'left' if center_diff > 0 else 'right'\n",
    "    cv2.putText(camera_perspective, 'The Radius of Curvature = ' + str(round(avg_curve,3))+' (m) ',\n",
    "        (50,50),cv2.FONT_HERSHEY_SIMPLEX,1,(255,255,255),2)\n",
    "    cv2.putText(camera_perspective, 'The Vehicle is ' + str(abs(round(center_diff,3)))+'m ' + side_pos + ' of center',\n",
    "        (50,100),cv2.FONT_HERSHEY_SIMPLEX,1,(255,255,255),2)\n",
    "    \n",
    "    ### Add a bird's eye view on the top right corner of the image with lane line markers\n",
    "    small_birds_eye = np.zeros((h,w,3))\n",
    "    left_line_window1 = np.array([np.transpose(np.vstack([left_fitx-25, ploty]))])\n",
    "    left_line_window2 = np.array([np.flipud(np.transpose(np.vstack([left_fitx+25, \n",
    "                                  ploty])))])\n",
    "    left_line_pts = np.hstack((left_line_window1, left_line_window2))\n",
    "    right_line_window1 = np.array([np.transpose(np.vstack([right_fitx-25, ploty]))])\n",
    "    right_line_window2 = np.array([np.flipud(np.transpose(np.vstack([right_fitx+25, \n",
    "                                  ploty])))])\n",
    "    right_line_pts = np.hstack((right_line_window1, right_line_window2))\n",
    "    \n",
    "    cv2.fillPoly(small_birds_eye, np.int_([left_line_pts]), (255,255,255))\n",
    "    cv2.fillPoly(small_birds_eye, np.int_([right_line_pts]),(255,255,255))\n",
    "    small_birds_eye = cv2.resize(small_birds_eye, (0,0), fx=0.3, fy=0.3)\n",
    "    camera_perspective[0:small_birds_eye.shape[0], 1280-small_birds_eye.shape[1]:] = small_birds_eye \n",
    "    \n",
    "    return camera_perspective"
   ]
  },
  {
   "cell_type": "code",
   "execution_count": 36,
   "metadata": {},
   "outputs": [],
   "source": [
    "def process_image(img):\n",
    "    calibrated = calibrate_image(img)\n",
    "    binary = gradient_plus_color_transform(calibrated)\n",
    "    binary_warped = cv2.warpPerspective(binary, M, (w,h), flags=cv2.INTER_LINEAR).astype(np.uint8) \n",
    "    polygon = graph_lane_lines(binary_warped)\n",
    "    result = cv2.addWeighted(polygon, 0.5, img, 1, 0)\n",
    "    plt.imsave('final.png',result)\n",
    "    return result"
   ]
  },
  {
   "cell_type": "code",
   "execution_count": 49,
   "metadata": {},
   "outputs": [
    {
     "name": "stdout",
     "output_type": "stream",
     "text": [
      "[MoviePy] >>>> Building video output_images/video.mp4\n",
      "[MoviePy] Writing video output_images/video.mp4\n"
     ]
    },
    {
     "name": "stderr",
     "output_type": "stream",
     "text": [
      " 96%|██████████████████████████████████████████████████████████████████████████████▊   | 25/26 [00:19<00:00,  1.33it/s]\n"
     ]
    },
    {
     "name": "stdout",
     "output_type": "stream",
     "text": [
      "[MoviePy] Done.\n",
      "[MoviePy] >>>> Video ready: output_images/video.mp4 \n",
      "\n",
      "Wall time: 20.2 s\n"
     ]
    }
   ],
   "source": [
    "output_file = 'output_images/video.mp4'\n",
    "input_clip = VideoFileClip('project_video.mp4').subclip(0,1)\n",
    "# input_clip = VideoFileClip(\"project_video.mp4\")\n",
    "output_clip = input_clip.fl_image(process_image) # NOTE: this function expects color images\n",
    "%time output_clip.write_videofile(output_file, audio=False)\n",
    "\n",
    "input_clip.reader.close()\n",
    "input_clip.audio.reader.close_proc()\n",
    "\n",
    "output_clip.reader.close()\n",
    "output_clip.audio.reader.close_proc()\n",
    "\n",
    "del input_clip\n",
    "del output_clip"
   ]
  }
 ],
 "metadata": {
  "kernelspec": {
   "display_name": "Python 3",
   "language": "python",
   "name": "python3"
  },
  "language_info": {
   "codemirror_mode": {
    "name": "ipython",
    "version": 3
   },
   "file_extension": ".py",
   "mimetype": "text/x-python",
   "name": "python",
   "nbconvert_exporter": "python",
   "pygments_lexer": "ipython3",
   "version": "3.6.4"
  }
 },
 "nbformat": 4,
 "nbformat_minor": 2
}
