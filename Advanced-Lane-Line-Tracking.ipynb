{
 "cells": [
  {
   "cell_type": "code",
   "execution_count": 1,
   "metadata": {},
   "outputs": [],
   "source": [
    "%matplotlib inline\n",
    "%reload_ext autoreload\n",
    "%autoreload 2"
   ]
  },
  {
   "cell_type": "markdown",
   "metadata": {},
   "source": [
    "Use `cv2.COLOR_RGB2GRAY` if you've read in an image using `mpimg.imread()`. Use `cv2.COLOR_BGR2GRAY` if you've read in an image using `cv2.imread()`."
   ]
  },
  {
   "cell_type": "markdown",
   "metadata": {},
   "source": [
    "### Pipeline Steps:\n",
    "\n",
    "1. Calibrate the incoming image to correct for camera distortion\n",
    "1. Distort to bird's eye view\n",
    "    1. Find the lane lines\n",
    "    1. Find the closest and farthest points on each lane line\n",
    "    1. Transform those points to be rectangular(?)\n",
    "1. Use Sobel operator to detect roughly vertical lines?"
   ]
  },
  {
   "cell_type": "code",
   "execution_count": 2,
   "metadata": {},
   "outputs": [],
   "source": [
    "import numpy as np\n",
    "import cv2\n",
    "import matplotlib.pyplot as plt\n",
    "import matplotlib.image as mpimg\n",
    "import pdb\n",
    "from pathlib import Path\n",
    "from moviepy.editor import VideoFileClip"
   ]
  },
  {
   "cell_type": "markdown",
   "metadata": {},
   "source": [
    "## Camera Calibration Step"
   ]
  },
  {
   "cell_type": "code",
   "execution_count": 3,
   "metadata": {},
   "outputs": [],
   "source": [
    "PATH = Path('./camera_cal/')\n",
    "n_cols = 9\n",
    "n_rows = 6\n",
    "objpoints = [] # 3D points in real world space\n",
    "imgpoints = [] # 2D points in image plane\n",
    "\n",
    "objp = np.zeros((n_cols*n_rows,3), np.float32)\n",
    "objp[:,:2] = np.mgrid[0:n_cols,0:n_rows].T.reshape(-1,2)"
   ]
  },
  {
   "cell_type": "code",
   "execution_count": 4,
   "metadata": {},
   "outputs": [
    {
     "name": "stdout",
     "output_type": "stream",
     "text": [
      "Unable to calibrate camera_cal\\calibration1.jpg\n",
      "Unable to calibrate camera_cal\\calibration4.jpg\n",
      "Unable to calibrate camera_cal\\calibration5.jpg\n"
     ]
    }
   ],
   "source": [
    "for filename in list(PATH.iterdir()):\n",
    "    img = plt.imread(filename)\n",
    "    if img is None:\n",
    "        print('ERROR')\n",
    "        pdb.set_trace()\n",
    "    \n",
    "    gray = cv2.cvtColor(img, cv2.COLOR_BGR2GRAY)\n",
    "    ret, corners = cv2.findChessboardCorners(gray, (n_cols, n_rows), None)\n",
    "    if ret == True:\n",
    "        imgpoints.append(corners)\n",
    "        objpoints.append(objp)\n",
    "        img = cv2.drawChessboardCorners(img, (n_cols, n_rows), corners, ret)\n",
    "    else: \n",
    "        print('Unable to calibrate', filename)\n",
    "\n",
    "ret, mtx, dist, rvecs, tvecs = cv2.calibrateCamera(objpoints, imgpoints, gray.shape[::-1], None, None)"
   ]
  },
  {
   "cell_type": "markdown",
   "metadata": {},
   "source": [
    "Let's grab a warped looking file and run it through the calibration step..."
   ]
  },
  {
   "cell_type": "code",
   "execution_count": 5,
   "metadata": {},
   "outputs": [],
   "source": [
    "filename = list(PATH.iterdir())[11]\n",
    "img = plt.imread(filename)\n",
    "dst = cv2.undistort(img, mtx, dist, None, mtx)\n",
    "\n",
    "# f, (ax1, ax2) = plt.subplots(1, 2, figsize=(24, 9))\n",
    "# f.tight_layout()\n",
    "# ax1.imshow(img)\n",
    "# ax1.set_title('Original Image', fontsize=50)\n",
    "# ax2.imshow(dst)\n",
    "# ax2.set_title('Undistorted Image', fontsize=50)\n",
    "# plt.subplots_adjust(left=0., right=1, top=0.9, bottom=0.)"
   ]
  },
  {
   "cell_type": "code",
   "execution_count": 6,
   "metadata": {},
   "outputs": [],
   "source": [
    "def calibrate_image(img):\n",
    "    return cv2.undistort(img, mtx, dist, None, mtx)"
   ]
  },
  {
   "cell_type": "markdown",
   "metadata": {},
   "source": [
    "## Let's take a look at some of the test images\n",
    "\n",
    "This code is very handy for displaying a few images easily"
   ]
  },
  {
   "cell_type": "code",
   "execution_count": 8,
   "metadata": {},
   "outputs": [],
   "source": [
    "PATH = Path('./test_images/')\n",
    "n_images = len(list(PATH.iterdir()))\n",
    "row_len = 4\n",
    "\n",
    "# fig,axes=plt.subplots(n_images//row_len, row_len, figsize=(15,5))\n",
    "# for i, ax in enumerate(axes.flat):\n",
    "#     filename = list(PATH.iterdir())[i]\n",
    "#     img = plt.imread(filename)\n",
    "#     img = calibrate_image(img)\n",
    "#     if img is None:\n",
    "#         print('ERROR')\n",
    "#         pdb.set_trace()\n",
    "#     ax.imshow(img)\n",
    "#     ax.set_title(str(filename).split('\\\\')[-1])\n",
    "# plt.tight_layout()"
   ]
  },
  {
   "cell_type": "code",
   "execution_count": 9,
   "metadata": {},
   "outputs": [],
   "source": [
    "# PATH = Path('./test_images/')\n",
    "# image = mpimg.imread(str(PATH/'test7.png'))\n",
    "# image = calibrate_image(image)\n",
    "# plt.imshow(image)"
   ]
  },
  {
   "cell_type": "markdown",
   "metadata": {},
   "source": [
    "# Sobel Gradient"
   ]
  },
  {
   "cell_type": "code",
   "execution_count": 10,
   "metadata": {},
   "outputs": [],
   "source": [
    "def abs_sobel_threshold(img, orient='x', sobel_kernel=3, thresh=(0, 255)):\n",
    "    gray = cv2.cvtColor(img, cv2.COLOR_RGB2GRAY) # Using mpimg.imread\n",
    "    # Take the derivative in x or y given orient = 'x' or 'y'\n",
    "    if orient == 'x':\n",
    "       sobel = cv2.Sobel(gray, cv2.CV_64F, 1, 0)\n",
    "    else:\n",
    "       sobel = cv2.Sobel(gray, cv2.CV_64F, 0, 1)\n",
    "    # 3) Take the absolute value of the gradient\n",
    "    abs_sobel = np.absolute(sobel)\n",
    "    # 4) Scale to 8-bit (0 - 255) then convert to type = np.uint8\n",
    "    max_sobel = np.max(abs_sobel)\n",
    "    scaled_sobel = abs_sobel * 255 / max_sobel\n",
    "    scaled_sobel = scaled_sobel.astype(np.uint8)\n",
    "    # 5) Create a mask of 1's where the scaled gradient magnitude\n",
    "            # is > thresh_min and < thresh_max\n",
    "    s_binary = np.zeros_like(scaled_sobel)\n",
    "    s_binary[(scaled_sobel >= thresh[0]) & (scaled_sobel <= thresh[1])] = 1\n",
    "    # 6) Return this mask as your binary_output image\n",
    "#     print(np.max(scaled_sobel))\n",
    "    return s_binary\n",
    "\n",
    "def mag_threshold(img, sobel_kernel=3, mag_thresh=(0, 255)):\n",
    "    gray = cv2.cvtColor(img, cv2.COLOR_RGB2GRAY) # Using mpimg.imread\n",
    "    # Take the gradient in x and y separately\n",
    "    sobel_x = cv2.Sobel(gray, cv2.CV_64F, 1, 0, ksize=sobel_kernel) # x gradient\n",
    "    sobel_y = cv2.Sobel(gray, cv2.CV_64F, 0, 1, ksize=sobel_kernel) # y gradient\n",
    "\n",
    "    # Calculate the magnitude \n",
    "    sum_sq = np.sqrt(sobel_x**2 + sobel_y**2)\n",
    "    max_sobel = np.max(sum_sq)\n",
    "    \n",
    "    # Scale to 8-bit (0 - 255) and convert to type = np.uint8\n",
    "    scaled_sobel = sum_sq * 255 / max_sobel\n",
    "    scaled_sobel = scaled_sobel.astype(np.uint8)\n",
    "    \n",
    "    # Create a binary mask where mag thresholds are met\n",
    "    post_threshold = np.zeros_like(scaled_sobel)\n",
    "    post_threshold[(scaled_sobel >= mag_thresh[0]) & (scaled_sobel <= mag_thresh[1])] = 1\n",
    "    return post_threshold\n",
    "\n",
    "def dir_threshold(img, sobel_kernel=3, thresh=(0, np.pi/2)):\n",
    "    gray = cv2.cvtColor(img, cv2.COLOR_RGB2GRAY) # Using mpimg.imread\n",
    "    # Take the gradient in x and y separately\n",
    "    sobel_x = cv2.Sobel(gray, cv2.CV_64F, 1, 0, ksize=sobel_kernel) # x gradient\n",
    "    sobel_y = cv2.Sobel(gray, cv2.CV_64F, 0, 1, ksize=sobel_kernel) # y gradient\n",
    "    # Take the absolute value of the x and y gradients\n",
    "    abs_sobel_x = np.absolute(sobel_x)\n",
    "    abs_sobel_y = np.absolute(sobel_y)\n",
    "    # Use arctan2 to calculate the direction of the gradient \n",
    "    atan = np.arctan2(abs_sobel_y, abs_sobel_x) # Element-wise arc tangent of y/x\n",
    "    # Create a binary mask where direction thresholds are met\n",
    "    post_threshold = np.zeros_like(atan)\n",
    "    post_threshold[(atan >= thresh[0]) & (atan <= thresh[1])] = 1\n",
    "    return post_threshold"
   ]
  },
  {
   "cell_type": "code",
   "execution_count": 11,
   "metadata": {},
   "outputs": [],
   "source": [
    "### Parameters to tune\n",
    "ksize = 7 # Choose a larger odd number to smooth gradient measurements\n",
    "thresh = (50, 255)\n",
    "mag_thresh = (50, 255)\n",
    "dir_thresh = (0.8, 1.2)\n",
    "\n",
    "def gradient_sobel(img):\n",
    "    ''' Takes an RGB image and computes several gradients to remove non-lane pixels\n",
    "    '''\n",
    "    # Apply each of the thresholding functions\n",
    "    gradx = abs_sobel_threshold(img, orient='x', sobel_kernel=ksize, thresh=thresh)\n",
    "    grady = abs_sobel_threshold(img, orient='y', sobel_kernel=ksize, thresh=thresh)\n",
    "    mag_binary = mag_threshold(img, sobel_kernel=ksize, mag_thresh=mag_thresh)\n",
    "    dir_binary = dir_threshold(img, sobel_kernel=ksize, thresh=dir_thresh)\n",
    "    combined = np.zeros_like(dir_binary)\n",
    "    combined[((gradx == 1) & (grady == 1)) | ((mag_binary == 1) & (dir_binary == 1))] = 1\n",
    "    return combined"
   ]
  },
  {
   "cell_type": "markdown",
   "metadata": {},
   "source": [
    "## Let's test the functions we've developed:\n",
    "\n",
    "It's clearly missing some areas (especially yellow lines), but not bad!"
   ]
  },
  {
   "cell_type": "code",
   "execution_count": 12,
   "metadata": {
    "scrolled": false
   },
   "outputs": [],
   "source": [
    "PATH = Path('./test_images/')\n",
    "n_images = len(list(PATH.iterdir()))\n",
    "row_len = 2\n",
    "image_width = 80/row_len\n",
    "image = None\n",
    "\n",
    "# fig,axes=plt.subplots(n_images//row_len, row_len, figsize=(image_width,image_width/1.2))\n",
    "# for i, ax in enumerate(axes.flat):\n",
    "#     filename = list(PATH.iterdir())[i]\n",
    "#     img = plt.imread(filename)\n",
    "#     if img is None:\n",
    "#         print('ERROR')\n",
    "#         pdb.set_trace()\n",
    "        \n",
    "#     img = calibrate_image(img)\n",
    "#     img = gradient_sobel(img)\n",
    "\n",
    "#     ax.imshow(img, cmap='gray')\n",
    "#     ax.set_title(str(filename).split('\\\\')[-1], fontsize=25)\n",
    "# plt.tight_layout()"
   ]
  },
  {
   "cell_type": "markdown",
   "metadata": {},
   "source": [
    "# HSL / HSV Color Space"
   ]
  },
  {
   "cell_type": "code",
   "execution_count": 13,
   "metadata": {},
   "outputs": [],
   "source": [
    "### Parameters to tune\n",
    "s_min = 200\n",
    "s_max = 255\n",
    "v_min = 215\n",
    "v_max = 255\n",
    "\n",
    "def color_transform(img):\n",
    "    ''' Takes an RGB image, converts it to HSV and HLS, and uses thresholds to remove non-lane pixels\n",
    "    '''\n",
    "    hls = cv2.cvtColor(img, cv2.COLOR_RGB2HLS)\n",
    "    hsv = cv2.cvtColor(img, cv2.COLOR_RGB2HSV)\n",
    "    \n",
    "    s_channel = hls[:,:,2]\n",
    "    s_binary = np.zeros_like(s_channel)\n",
    "    s_binary[(s_channel > s_min) & (s_channel < s_max)] = 1\n",
    "    \n",
    "    v_channel = hsv[:,:,2]\n",
    "    v_binary = np.zeros_like(v_channel)\n",
    "    v_binary[(v_channel > v_min) & (v_channel < v_max)] = 1\n",
    "    \n",
    "    out = np.zeros_like(s_channel)\n",
    "    out[(s_binary == 1) | (v_binary == 1)] = 1\n",
    "    return out"
   ]
  },
  {
   "cell_type": "code",
   "execution_count": 14,
   "metadata": {},
   "outputs": [],
   "source": [
    "PATH = Path('./test_images/')\n",
    "n_images = len(list(PATH.iterdir()))\n",
    "row_len = 2\n",
    "image_width = 80/row_len\n",
    "image = None\n",
    "\n",
    "# fig,axes=plt.subplots(n_images//row_len, row_len, figsize=(image_width,image_width/1.2))\n",
    "# for i, ax in enumerate(axes.flat):\n",
    "#     filename = list(PATH.iterdir())[i]\n",
    "#     img = plt.imread(filename)\n",
    "#     if img is None:\n",
    "#         print('ERROR')\n",
    "#         pdb.set_trace()\n",
    "        \n",
    "#     img = calibrate_image(img)\n",
    "#     img = color_transform(img)\n",
    "\n",
    "#     ax.imshow(img, cmap='gray')\n",
    "#     ax.set_title(str(filename).split('\\\\')[-1], fontsize=25)\n",
    "# plt.tight_layout()"
   ]
  },
  {
   "cell_type": "markdown",
   "metadata": {},
   "source": [
    "# Test Gradient + Color Transform together"
   ]
  },
  {
   "cell_type": "code",
   "execution_count": 15,
   "metadata": {},
   "outputs": [],
   "source": [
    "def gradient_plus_color_transform(img):\n",
    "    ''' Converts an RGB image to a bimary lane line image using gradients + color space transforms\n",
    "    '''\n",
    "    grad = gradient_sobel(img)\n",
    "    color = color_transform(img)\n",
    "    \n",
    "    img = np.zeros_like(color)\n",
    "    img[(grad == 1) | (color == 1)] = 255 # At the end of the pipeline, create an image that's 0-255 scaled\n",
    "    return img"
   ]
  },
  {
   "cell_type": "code",
   "execution_count": 16,
   "metadata": {},
   "outputs": [],
   "source": [
    "PATH = Path('./test_images/')\n",
    "n_images = len(list(PATH.iterdir()))\n",
    "row_len = 2\n",
    "image_width = 80/row_len\n",
    "image = None\n",
    "\n",
    "# fig, axes = plt.subplots(n_images//row_len, row_len, figsize=(image_width,image_width/1.2))\n",
    "# for i, ax in enumerate(axes.flat):\n",
    "#     filename = list(PATH.iterdir())[i]\n",
    "#     img = plt.imread(filename)\n",
    "#     if img is None:\n",
    "#         print('ERROR')\n",
    "#         pdb.set_trace()\n",
    "        \n",
    "#     img = calibrate_image(img)\n",
    "#     img = gradient_plus_color_transform(img)\n",
    "\n",
    "#     ax.imshow(img, cmap='gray')\n",
    "#     ax.set_title(str(filename).split('\\\\')[-1], fontsize=25)\n",
    "# plt.tight_layout()"
   ]
  },
  {
   "cell_type": "markdown",
   "metadata": {},
   "source": [
    "# Perspective Transform"
   ]
  },
  {
   "cell_type": "code",
   "execution_count": 17,
   "metadata": {},
   "outputs": [],
   "source": [
    "img = mpimg.imread('./test_images/test1.jpg')\n",
    "# img = mpimg.imread('./test_images/test_lanes.png')\n",
    "# img = cv2.cvtColor(img, cv2.COLOR_RGB2GRAY) # Using mpimg.imread\n",
    "img = calibrate_image(img)\n",
    "img = gradient_plus_color_transform(img)\n",
    "w = 1280\n",
    "h = 720\n",
    "\n",
    "# fig, ax = plt.subplots(figsize=(40, 20))\n",
    "# ax.imshow(img, cmap='gray') \n",
    "\n",
    "offset = w*.25\n",
    "dst = np.float32(\n",
    "[[w*.25,0], # Top left\n",
    "[w*.75, 0], # Top right\n",
    "[w*.25, h], # Bottom left\n",
    "[w*.75, h]]) # Bottom right\n",
    "\n",
    "## Stealing from youtube...\n",
    "mid_width = 0.08\n",
    "bot_width = 0.76\n",
    "height_pct = .62\n",
    "bottom_trim = 0.935\n",
    "\n",
    "top_left =  (w*(0.5-mid_width/2), h*height_pct)\n",
    "top_right = (w*(0.5+mid_width/2), h*height_pct)\n",
    "bottom_left =  (w*(0.5-bot_width/2), h*bottom_trim)\n",
    "bottom_right = (w*(0.5+bot_width/2), h*bottom_trim)\n",
    "\n",
    "src = np.float32([top_left, top_right, bottom_left, bottom_right])\n",
    "# for pt in src:\n",
    "#     plt.plot(*pt,'bo',markersize=20)\n",
    "    \n",
    "# for pt in dst:\n",
    "#     plt.plot(*pt,'ro',markersize=20)"
   ]
  },
  {
   "cell_type": "code",
   "execution_count": 18,
   "metadata": {},
   "outputs": [],
   "source": [
    "M = cv2.getPerspectiveTransform(src, dst)\n",
    "Minv = cv2.getPerspectiveTransform(dst, src)\n",
    "\n",
    "# warped = cv2.warpPerspective(img, M, img_size, flags=cv2.INTER_LINEAR)\n",
    "# fig, ax = plt.subplots(figsize=(40, 20))\n",
    "# ax.imshow(warped, cmap='gray') "
   ]
  },
  {
   "cell_type": "code",
   "execution_count": 19,
   "metadata": {},
   "outputs": [],
   "source": [
    "PATH = Path('./test_images/')\n",
    "n_images = len(list(PATH.iterdir()))\n",
    "row_len = 2\n",
    "plot_width = 80/row_len\n",
    "plot_height = plot_width/1.2\n",
    "image = None\n",
    "\n",
    "# fig, axes = plt.subplots(n_images//row_len, row_len, figsize=(plot_width,plot_height))\n",
    "# for i, ax in enumerate(axes.flat):\n",
    "#     filename = list(PATH.iterdir())[i]\n",
    "#     img = plt.imread(filename)\n",
    "#     if img is None:\n",
    "#         print('ERROR')\n",
    "#         pdb.set_trace()\n",
    "        \n",
    "#     img = calibrate_image(img)\n",
    "#     img = gradient_plus_color_transform(img)\n",
    "#     img = cv2.warpPerspective(img, M, img.shape[::-1], flags=cv2.INTER_LINEAR)\n",
    "\n",
    "#     ax.imshow(img, cmap='gray')\n",
    "#     ax.set_title(str(filename).split('\\\\')[-1], fontsize=25)\n",
    "# plt.tight_layout()"
   ]
  },
  {
   "cell_type": "markdown",
   "metadata": {},
   "source": [
    "# Line Tracker"
   ]
  },
  {
   "cell_type": "code",
   "execution_count": 70,
   "metadata": {},
   "outputs": [],
   "source": [
    "class Tracker():\n",
    "    def __init__(self, window_width, window_height, margin, ym=1, xm=1, smooth_factor=15):\n",
    "        self.recent_centers = []\n",
    "        self.window_width = window_width\n",
    "        self.window_height = window_height\n",
    "        self.margin = margin\n",
    "        self.ym_per_px = ym # meters per pixel\n",
    "        self.xm_per_px = xm \n",
    "        self.smooth_factor = smooth_factor\n",
    "    \n",
    "    def find_window_centroids(self, warped):\n",
    "        ''' Takes in a 1D bird's eye image and determines the positions of bounding boxes around lane lines\n",
    "        '''\n",
    "        window_centroids = []\n",
    "        window = np.ones(self.window_width)\n",
    "        h,w = warped.shape\n",
    "        \n",
    "        l_sum = np.sum(warped[3*h//4:,:w//2], axis=0) # squash bottom of pic into a 1D array\n",
    "        l_center = np.argmax(np.convolve(window, l_sum)) - self.window_width/2 # find largest area using convolution\n",
    "        r_sum = np.sum(warped[3*h//4:,w//2:], axis=0)\n",
    "        r_center = np.argmax(np.convolve(window, r_sum)) - self.window_width/2 + w//2\n",
    "        \n",
    "        window_centroids.append((l_center, r_center))\n",
    "        pdb.set_trace()\n",
    "        \n",
    "        for level in range(1, h//self.window_height):\n",
    "            \n",
    "            image_layer = np.sum(warped[h-(level+1)*self.window_height:h-level*self.window_height,:], axis=0)\n",
    "            conv_signal = np.convolve(window, image_layer)\n",
    "            \n",
    "            offset = self.window_width/2\n",
    "            l_min_index = int(max(l_center+offset-self.margin, 0))\n",
    "            l_max_index = int(min(l_center+offset+self.margin, warped.shape[1]))\n",
    "            l_center = np.argmax(conv_signal[l_min_index:l_max_index])+l_min_index-offset\n",
    "            \n",
    "            r_min_index = int(max(r_center+offset-self.margin, 0))\n",
    "            r_max_index = int(min(r_center+offset+self.margin, warped.shape[1]))\n",
    "            r_center = np.argmax(conv_signal[r_min_index:r_max_index])+r_min_index-offset\n",
    "            \n",
    "            window_centroids.append((l_center, r_center))\n",
    "            \n",
    "        self.recent_centers.append(window_centroids)\n",
    "        \n",
    "        return np.average(self.recent_centers[-self.smooth_factor:], axis=0)"
   ]
  },
  {
   "cell_type": "code",
   "execution_count": 21,
   "metadata": {},
   "outputs": [],
   "source": [
    "def window_mask(width, height, img_ref, center, level):\n",
    "    ''' Creates a mask of 1's\n",
    "    '''    \n",
    "    h,w = img_ref.shape\n",
    "    output = np.zeros_like(img_ref)\n",
    "    output[int(h-(level+1)*height):int(h-level*height),max(0,int(center-width)):min(int(center+width),w)] = 1\n",
    "    return output"
   ]
  },
  {
   "cell_type": "code",
   "execution_count": null,
   "metadata": {
    "scrolled": false
   },
   "outputs": [
    {
     "name": "stdout",
     "output_type": "stream",
     "text": [
      "> <ipython-input-70-085ebd9aad12>(26)find_window_centroids()\n",
      "-> for level in range(1, h//self.window_height):\n",
      "(Pdb) window_centroids\n",
      "[(380.5, 922.5)]\n",
      "(Pdb) help\n",
      "\n",
      "Documented commands (type help <topic>):\n",
      "========================================\n",
      "EOF    c          d        h         list      q        rv       undisplay\n",
      "a      cl         debug    help      ll        quit     s        unt      \n",
      "alias  clear      disable  ignore    longlist  r        source   until    \n",
      "args   commands   display  interact  n         restart  step     up       \n",
      "b      condition  down     j         next      return   tbreak   w        \n",
      "break  cont       enable   jump      p         retval   u        whatis   \n",
      "bt     continue   exit     l         pp        run      unalias  where    \n",
      "\n",
      "Miscellaneous help topics:\n",
      "==========================\n",
      "exec  pdb\n",
      "\n",
      "(Pdb) help step\n",
      "s(tep)\n",
      "        Execute the current line, stop at the first possible occasion\n",
      "        (either in a function that is called or in the current\n",
      "        function).\n",
      "(Pdb) help c\n",
      "c(ont(inue))\n",
      "        Continue execution, only stop when a breakpoint is encountered.\n",
      "(Pdb) help n\n",
      "n(ext)\n",
      "        Continue execution until the next line in the current function\n",
      "        is reached or it returns.\n",
      "(Pdb) l_sum\n",
      "array([  439,   566,   494,   406,   582,   514,   586,   787,   843,\n",
      "        1027,  1130,  1238,  1473,  1543,  1597,  1681,  1689,  1663,\n",
      "        1747,  1701,  1638,  1697,  1608,  1556,  1640,  1525,  1493,\n",
      "        1520,  1390,  1464,  1429,  1314,  1452,  1441,  1421,  1535,\n",
      "        1505,  1531,  1569,  1500,  1586,  1545,  1553,  1694,  1625,\n",
      "        1710,  1823,  1806,  1724,  1740,  1714,  1641,  1629,  1780,\n",
      "        1781,  1871,  1973,  1998,  2213,  2216,  2120,  2235,  2403,\n",
      "        2284,  2332,  2574,  2253,  2388,  2656,  2337,  2741,  2669,\n",
      "        2482,  2613,  2237,  2201,  1940,  1623,  1694,  1515,  1441,\n",
      "        1637,  1582,  1362,  1640,  1468,  1385,  2001,  1896,  2045,\n",
      "        2329,  2622,  2864,  2749,  3398,  3492,  3051,  3697,  3928,\n",
      "        3696,  4031,  4275,  3516,  3620,  3726,  2941,  2546,  2999,\n",
      "        3564,  3926,  4455,  5308,  4242,  3717,  3910,  3404,  3401,\n",
      "        3339,  2993,  2797,  2880,  3214,  2378,  2105,  2260,  2567,\n",
      "        2537,  2598,  2263,  2333,  1885,  1646,  1675,  1597,  1562,\n",
      "        1507,  1617,  1859,  2146,  2355,  2559,  2734,  3215,  4077,\n",
      "        5676,  6961,  8116,  8092,  7700,  6992,  7112,  7456,  7550,\n",
      "        7369,  6594,  5104,  4039,  2547,  1669,  1198,   616,   125,\n",
      "         227,   150,     0,    21,    46,    84,   147,   175,   247,\n",
      "         188,   149,   101,    52,    28,     0,     0,     0,     0,\n",
      "           0,     0,     0,     0,     4,    43,    82,   132,   182,\n",
      "         220,   216,   158,   112,    58,    30,     4,     0,     0,\n",
      "           0,     0,     0,     0,     0,     0,     0,     0,     0,\n",
      "           0,     0,     0,     0,     0,     0,     0,    27,    81,\n",
      "         132,   193,   197,   201,   142,    91,    32,     0,     0,\n",
      "           0,     0,     0,     0,     0,     0,     0,     0,     0,\n",
      "           0,     0,     0,     0,     0,     0,     0,     0,     0,\n",
      "           0,     0,     0,     0,     0,     0,     0,     0,     0,\n",
      "           0,     0,     0,     0,     0,     0,     0,     0,     0,\n",
      "           0,     0,     0,     0,     0,     0,     0,     0,     0,\n",
      "           0,     0,     0,     0,     0,     0,     0,     0,     0,\n",
      "           0,     0,     0,     0,     0,     0,     0,     0,     0,\n",
      "           0,     0,     0,     0,     0,     0,     0,     0,     0,\n",
      "           0,     0,     0,     0,     0,     0,     0,     0,     0,\n",
      "           0,     0,     0,     0,     0,     0,    89,   406,   538,\n",
      "         535,   231,   201,     0,     0,     0,     0,     0,     0,\n",
      "           0,     0,     0,     0,     0,     0,     0,    90,   159,\n",
      "         232,   240,   231,   171,   107,    23,     7,     0,     0,\n",
      "           0,     0,     0,     0,     0,     0,     0,     0,     0,\n",
      "           0,     0,     0,     0,     0,     0,     0,     0,     0,\n",
      "           0,     0,    23,   122,   357,   781,  1527,  3235,  5745,\n",
      "       10600, 16945, 23292, 28199, 32045, 32926, 32632, 31538, 30419,\n",
      "       29502, 28878, 28531, 28664, 28907, 28298, 26017, 22840, 19548,\n",
      "       16134, 12399, 11082,  9941,  9491,  8642,  8500,  7966,  6796,\n",
      "        6132,  5458,  5058,  5081,  5062,  4814,  4206,  3897,  3736,\n",
      "        3459,  2866,  2253,  2002,  1647,  1333,   530,   240,   102,\n",
      "           0,     0,     0,     0,     0,     0,     0,     0,     0,\n",
      "           0,     0,     0,     0,     0,     0,     0,     0,     0,\n",
      "           0,     0,     0,     0,     0,     0,     0,     0,     0,\n",
      "           0,     0,     0,     0,    16,   108,   298,   423,   362,\n",
      "         188,    39,     2,     0,     0,     0,     0,     0,     0,\n",
      "           0,     0,     0,     0,     0,     0,     0,     0,     0,\n",
      "           0,     0,     0,     0,     0,     0,     0,     0,     0,\n",
      "           0,     0,     0,     0,     0,     0,     0,     0,     0,\n",
      "           0,     0,     0,     0,     0,     0,     0,     0,     0,\n",
      "           0,     0,     0,     0,     0,     0,     0,     0,     0,\n",
      "           0,     0,     0,     0,     0,     0,     0,     0,     0,\n",
      "           0,     0,     0,     0,     0,     0,     0,     0,     0,\n",
      "           0,     0,     0,     0,     0,     0,     0,     0,     0,\n",
      "           0,     0,     0,     0,     0,     0,     0,     0,     0,\n",
      "           0,     0,     0,     0,     0,     0,     0,     0,     0,\n",
      "           0,     0,     0,     0,     0,     0,     0,     0,     0,\n",
      "           0,    88,    16,     0,     0,     0,     0,     0,     0,\n",
      "           0,     0,     0,     0,     0,     0,     0,     0,     0,\n",
      "           0,     0,     0,     0,     0,     0,     0,     0,     0,\n",
      "           0,     0,     0,     0,     0,     0,     0,     0,     0,\n",
      "           0,     0,     0,     0,     0,     0,     0,     0,     0,\n",
      "           0,     0,     0,     0,     0,     0,    57,   134,     0,\n",
      "           0,     0,     0,     0,     0,   168,     0,     0,     0,\n",
      "           0,     0,     0,     0,     0,     0,     0,     0,     0,\n",
      "           0,     0,     0,     0,     0,     0,     0,     0,     0,\n",
      "           0], dtype=uint32)\n",
      "(Pdb) np.argmax(l_sum)\n",
      "374\n"
     ]
    }
   ],
   "source": [
    "w = 1280\n",
    "h = 720\n",
    "window_width=25\n",
    "window_height=80\n",
    "xm_per_pix=4/384\n",
    "ym_per_pix=10/720\n",
    "\n",
    "# def analyze_transformed_image(warped):\n",
    "#     ''' Takes in a bird's eye view single channel image of lane lines, and calculates their position and curvature\n",
    "#     '''\n",
    "\n",
    "### Read in an image and run it through the alg:\n",
    "PATH = Path('./test_images/')\n",
    "filename = str(PATH/'test5.jpg')\n",
    "img = plt.imread(filename)\n",
    "if img is None:\n",
    "    print('ERROR')\n",
    "    pdb.set_trace()\n",
    "calibrated = calibrate_image(img)\n",
    "binary = gradient_plus_color_transform(calibrated)\n",
    "warped = cv2.warpPerspective(binary, M, (w,h), flags=cv2.INTER_LINEAR).astype(np.uint8) # create birds eye img\n",
    "### New code starts here\n",
    "\n",
    "curve_centers = Tracker(window_width=window_width, window_height=window_height, margin=25, \n",
    "                        ym=ym_per_pix, xm=xm_per_pix, smooth_factor=15)\n",
    "window_centroids = curve_centers.find_window_centroids(warped)\n",
    "\n",
    "l_points = np.zeros_like(warped)\n",
    "r_points = np.zeros_like(warped)\n",
    "\n",
    "leftx = []\n",
    "rightx = []\n",
    "\n",
    "for level in range(0, len(window_centroids)):\n",
    "    l_mask = window_mask(window_width, window_height, warped, window_centroids[level][0],level)\n",
    "    r_mask = window_mask(window_width, window_height, warped, window_centroids[level][1],level)\n",
    "\n",
    "    leftx.append(window_centroids[level][0])\n",
    "    rightx.append(window_centroids[level][1])\n",
    "\n",
    "    # Save the boxes for the next run\n",
    "    l_points [(l_points == 255) | (l_mask == 1)] = 255 \n",
    "    r_points [(r_points == 255) | (r_mask == 1)] = 255\n",
    "\n",
    "\n",
    "boxes = np.array(r_points+l_points, np.uint8) # merge left and right window pixels\n",
    "zero_channel = np.zeros_like(boxes) \n",
    "boxes_3channel = np.array(cv2.merge((zero_channel,boxes,zero_channel)), np.uint8)\n",
    "warpage = np.array(cv2.merge((warped,warped,warped)), np.uint8)\n",
    "# result = cv2.addWeighted(warpage, 1, boxes_3channel, 0.5, 0.0)\n",
    "\n",
    "yvals = range(0,h)\n",
    "res_yvals = np.arange(h-window_width/2,0,-window_height)\n",
    "\n",
    "left_fit = np.polyfit(res_yvals, leftx, 2)\n",
    "left_fitx = left_fit[0]*yvals*yvals + left_fit[1]*yvals + left_fit[2]\n",
    "left_fitx = np.array(left_fitx,np.int32)\n",
    "\n",
    "right_fit = np.polyfit(res_yvals, rightx, 2)\n",
    "right_fitx = left_fit[0]*yvals*yvals + right_fit[1]*yvals + right_fit[2]\n",
    "right_fitx = np.array(right_fitx,np.int32)\n",
    "\n",
    "left_lane = np.array(list(zip(np.concatenate((left_fitx-window_width/2,left_fitx[::-1]+window_width/2),axis=0),np.concatenate((yvals,yvals[::-1]),axis=0))),np.int32)\n",
    "right_lane = np.array(list(zip(np.concatenate((right_fitx-window_width/2,right_fitx[::-1]+window_width/2),axis=0),np.concatenate((yvals,yvals[::-1]),axis=0))),np.int32)\n",
    "# middle_lane = np.array(list(zip(np.concatenate((right_fitx-window_width/2,right_fitx[::-1]+window_width/2),axis=0),np.concatenate((yvals,yvals[::-1]),axis=0))),np.int32)\n",
    "\n",
    "road = np.zeros((h,w))\n",
    "# road_bkg = np.zeros_like(img)\n",
    "cv2.fillPoly(road, [left_lane], color=[255,0,0]) # Left is red\n",
    "cv2.fillPoly(road, [right_lane], color=[255,0,255]) # Right is red as well for now\n",
    "# cv2.fillPoly(road_bkg, left_lane,color=[255,255,255])\n",
    "# cv2.fillPoly(road_bkg, right_lane,color=[255,255,255])\n",
    "\n",
    "## Determine where the car sits inside the lane: to the right or left and by how much\n",
    "camera_center = (left_fitx[-1] + right_fitx[-1])/2\n",
    "center_diff = (camera_center - w/2) * xm_per_pix\n",
    "side_pos = 'left' if center_diff < 0 else 'right'\n",
    "\n",
    "## Determine radius of curvature\n",
    "curve_fit_cr = np.polyfit(np.array(res_yvals,np.float32)*ym_per_pix,np.array(leftx,np.float32)*xm_per_pix,2)\n",
    "# Determine the curvature of left lane\n",
    "curve_rad = ((1+(2*curve_fit_cr[0]*yvals[-1]*ym_per_pix + curve_fit_cr[1])**2)**1.5) / np.absolute(2*curve_fit_cr[0])\n",
    "\n",
    "# Revert from bird's eye view back to the car's perspective\n",
    "camera_perspective = cv2.warpPerspective(road, Minv, (w, h), flags=cv2.INTER_LINEAR)\n",
    "\n",
    "\n",
    "cv2.putText(camera_perspective, 'The Radius of Curvature = ' + str(round(curve_rad,3))+'(m)',(50,50),cv2.FONT_HERSHEY_SIMPLEX,1,(255,255,255),2)\n",
    "cv2.putText(camera_perspective, 'The Vehicle is ' + str(abs(round(center_diff,3)))+'m ' + side_pos + ' of center',(50,100),cv2.FONT_HERSHEY_SIMPLEX,1,(255,255,255),2)\n",
    "\n",
    "small_birds_eye = cv2.resize(road, (0,0), fx=0.3, fy=0.3)"
   ]
  },
  {
   "cell_type": "code",
   "execution_count": 67,
   "metadata": {},
   "outputs": [
    {
     "name": "stdout",
     "output_type": "stream",
     "text": [
      "test_images\\test5.jpg\n"
     ]
    },
    {
     "data": {
      "text/plain": [
       "<matplotlib.image.AxesImage at 0x271be746048>"
      ]
     },
     "execution_count": 67,
     "metadata": {},
     "output_type": "execute_result"
    },
    {
     "data": {
      "image/png": "[encoded data removed]",
      "text/plain": [
       "<matplotlib.figure.Figure at 0x271bff942e8>"
      ]
     },
     "metadata": {},
     "output_type": "display_data"
    }
   ],
   "source": [
    "test_image = np.array(cv2.merge((zero_channel,warped,boxes)), np.uint8)\n",
    "print(filename)\n",
    "plt.imshow(test_image)\n",
    "# warped.shape"
   ]
  },
  {
   "cell_type": "markdown",
   "metadata": {},
   "source": [
    "# Invert the Transform"
   ]
  },
  {
   "cell_type": "code",
   "execution_count": null,
   "metadata": {
    "scrolled": false
   },
   "outputs": [],
   "source": [
    "PATH = Path('./test_images/')\n",
    "n_images = len(list(PATH.iterdir()))\n",
    "row_len = 2\n",
    "plot_width = 80/row_len\n",
    "plot_height = plot_width/1.2\n",
    "image = None\n",
    "blank_one_channel_img = np.zeros((h,w),np.uint8)\n",
    "\n",
    "fig, axes = plt.subplots(n_images//row_len, row_len, figsize=(plot_width,plot_height))\n",
    "for i, ax in enumerate(axes.flat):\n",
    "    filename = list(PATH.iterdir())[i]\n",
    "    print(filename)\n",
    "    img = plt.imread(filename)\n",
    "    if img is None:\n",
    "        print('ERROR')\n",
    "        pdb.set_trace()\n",
    "    \n",
    "    calibrated = calibrate_image(img)\n",
    "    binary = gradient_plus_color_transform(calibrated)\n",
    "    \n",
    "    warped = cv2.warpPerspective(binary, M, (w,h), flags=cv2.INTER_LINEAR)\n",
    "#     warped_3channels = np.array(cv2.merge((warped,warped,warped)), np.uint8)\n",
    "    \n",
    "    road = analyze_transformed_image(warped).astype(np.uint8)\n",
    "#     road_3channels = np.array(cv2.merge((road,blank_one_channel_img,blank_one_channel_img)), np.uint8)\n",
    "    \n",
    "#     test_image = cv2.addWeighted(road_3channels, 1.0, warped_3channels, 0.7, gamma=0.0)\n",
    "#     test_image = np.array(cv2.merge((road,blank_one_channel_img,warped)), np.uint8)\n",
    "\n",
    "#     test_image = np.array([warped.T,road.T,blank_one_channel_img.T]).T\n",
    "#     print(road.shape,road.dtype)\n",
    "#     print(warped.shape,warped.dtype)\n",
    "#     print(blank_one_channel_img.shape,blank_one_channel_img.dtype)\n",
    "    test_image = cv2.merge((road, warped, blank_one_channel_img))\n",
    "    \n",
    "    ax.imshow(test_image)    \n",
    "    ax.set_title(str(filename).split('\\\\')[-1], fontsize=25)\n",
    "print(road.shape)\n",
    "plt.tight_layout()"
   ]
  },
  {
   "cell_type": "markdown",
   "metadata": {},
   "source": [
    "# Test on video"
   ]
  },
  {
   "cell_type": "code",
   "execution_count": null,
   "metadata": {},
   "outputs": [],
   "source": [
    "# road_with_lane_lines = None\n",
    "\n",
    "# def process_image(original_img):\n",
    "#     calibrated = calibrate_image(original_img)\n",
    "#     binary = gradient_plus_color_transform(calibrated)\n",
    "#     warped = cv2.warpPerspective(binary, M, (1280, 720), flags=cv2.INTER_LINEAR)\n",
    "#     road, small_road = analyze_transformed_image(warped)\n",
    "\n",
    "#     # Overlay lane lines with the original image\n",
    "#     road_with_lane_lines = cv2.addWeighted(road, 1.0, calibrated, 0.7, gamma=0.0)\n",
    "#     # Add birds eye view to top right corner (Row,Col coords)\n",
    "#     road_with_lane_lines[0:small_road.shape[0], 1280-small_road.shape[1]:] = small_road \n",
    "    \n",
    "#     return road_with_lane_lines\n",
    "\n",
    "# white_output = 'output_images/video.mp4'\n",
    "# clip1 = VideoFileClip('src/project_video.mp4').subclip(0,1)\n",
    "# # clip1 = VideoFileClip(\"project_video.mp4\")\n",
    "# white_clip = clip1.fl_image(process_image) # NOTE: this function expects color images\n",
    "# %time white_clip.write_videofile(white_output, audio=False)\n",
    "\n",
    "# clip1.reader.close()\n",
    "# clip1.audio.reader.close_proc()\n",
    "\n",
    "# white_clip.reader.close()\n",
    "# white_clip.audio.reader.close_proc()\n",
    "\n",
    "# del clip1\n",
    "# del white_clip"
   ]
  }
 ],
 "metadata": {
  "kernelspec": {
   "display_name": "Python 3",
   "language": "python",
   "name": "python3"
  },
  "language_info": {
   "codemirror_mode": {
    "name": "ipython",
    "version": 3
   },
   "file_extension": ".py",
   "mimetype": "text/x-python",
   "name": "python",
   "nbconvert_exporter": "python",
   "pygments_lexer": "ipython3",
   "version": "3.6.4"
  }
 },
 "nbformat": 4,
 "nbformat_minor": 2
}
